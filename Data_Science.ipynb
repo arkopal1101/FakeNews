{
  "cells": [
    {
      "cell_type": "code",
      "execution_count": 1,
      "metadata": {
        "id": "MlOYTIs0RmiX"
      },
      "outputs": [],
      "source": [
        "import pandas as pd\n",
        "import matplotlib.pyplot as plt\n",
        "import plotly.express as px"
      ]
    },
    {
      "cell_type": "code",
      "execution_count": 2,
      "metadata": {
        "id": "X47sNRCBEKLF"
      },
      "outputs": [],
      "source": [
        "from sklearn.model_selection import train_test_split\n",
        "from sklearn.feature_extraction.text import TfidfVectorizer\n",
        "from sklearn.linear_model import PassiveAggressiveClassifier\n",
        "from sklearn.metrics import accuracy_score, confusion_matrix\n",
        "from sklearn.linear_model import LogisticRegression\n",
        "from sklearn.metrics import roc_auc_score\n",
        "import nltk\n",
        "from nltk.corpus import stopwords\n",
        "from nltk.stem import WordNetLemmatizer"
      ]
    },
    {
      "cell_type": "code",
      "execution_count": 3,
      "metadata": {
        "id": "ok5dgYMAE8K0"
      },
      "outputs": [],
      "source": [
        "fake_df = pd.read_csv(\"Fake.csv\")\n",
        "real_df = pd.read_csv(\"True.csv\")"
      ]
    },
    {
      "cell_type": "code",
      "execution_count": 4,
      "metadata": {
        "colab": {
          "base_uri": "https://localhost:8080/",
          "height": 206
        },
        "id": "zd-Psd44Gvkd",
        "outputId": "4063f1c4-a23f-4252-bc5f-c93b04f3030c"
      },
      "outputs": [
        {
          "output_type": "execute_result",
          "data": {
            "text/plain": [
              "                                               title  \\\n",
              "0   Donald Trump Sends Out Embarrassing New Year’...   \n",
              "1   Drunk Bragging Trump Staffer Started Russian ...   \n",
              "2   Sheriff David Clarke Becomes An Internet Joke...   \n",
              "3   Trump Is So Obsessed He Even Has Obama’s Name...   \n",
              "4   Pope Francis Just Called Out Donald Trump Dur...   \n",
              "\n",
              "                                                text subject  \\\n",
              "0  Donald Trump just couldn t wish all Americans ...    News   \n",
              "1  House Intelligence Committee Chairman Devin Nu...    News   \n",
              "2  On Friday, it was revealed that former Milwauk...    News   \n",
              "3  On Christmas day, Donald Trump announced that ...    News   \n",
              "4  Pope Francis used his annual Christmas Day mes...    News   \n",
              "\n",
              "                date  \n",
              "0  December 31, 2017  \n",
              "1  December 31, 2017  \n",
              "2  December 30, 2017  \n",
              "3  December 29, 2017  \n",
              "4  December 25, 2017  "
            ],
            "text/html": [
              "\n",
              "  <div id=\"df-3bb098e7-f306-429d-9402-f38c84a65fae\">\n",
              "    <div class=\"colab-df-container\">\n",
              "      <div>\n",
              "<style scoped>\n",
              "    .dataframe tbody tr th:only-of-type {\n",
              "        vertical-align: middle;\n",
              "    }\n",
              "\n",
              "    .dataframe tbody tr th {\n",
              "        vertical-align: top;\n",
              "    }\n",
              "\n",
              "    .dataframe thead th {\n",
              "        text-align: right;\n",
              "    }\n",
              "</style>\n",
              "<table border=\"1\" class=\"dataframe\">\n",
              "  <thead>\n",
              "    <tr style=\"text-align: right;\">\n",
              "      <th></th>\n",
              "      <th>title</th>\n",
              "      <th>text</th>\n",
              "      <th>subject</th>\n",
              "      <th>date</th>\n",
              "    </tr>\n",
              "  </thead>\n",
              "  <tbody>\n",
              "    <tr>\n",
              "      <th>0</th>\n",
              "      <td>Donald Trump Sends Out Embarrassing New Year’...</td>\n",
              "      <td>Donald Trump just couldn t wish all Americans ...</td>\n",
              "      <td>News</td>\n",
              "      <td>December 31, 2017</td>\n",
              "    </tr>\n",
              "    <tr>\n",
              "      <th>1</th>\n",
              "      <td>Drunk Bragging Trump Staffer Started Russian ...</td>\n",
              "      <td>House Intelligence Committee Chairman Devin Nu...</td>\n",
              "      <td>News</td>\n",
              "      <td>December 31, 2017</td>\n",
              "    </tr>\n",
              "    <tr>\n",
              "      <th>2</th>\n",
              "      <td>Sheriff David Clarke Becomes An Internet Joke...</td>\n",
              "      <td>On Friday, it was revealed that former Milwauk...</td>\n",
              "      <td>News</td>\n",
              "      <td>December 30, 2017</td>\n",
              "    </tr>\n",
              "    <tr>\n",
              "      <th>3</th>\n",
              "      <td>Trump Is So Obsessed He Even Has Obama’s Name...</td>\n",
              "      <td>On Christmas day, Donald Trump announced that ...</td>\n",
              "      <td>News</td>\n",
              "      <td>December 29, 2017</td>\n",
              "    </tr>\n",
              "    <tr>\n",
              "      <th>4</th>\n",
              "      <td>Pope Francis Just Called Out Donald Trump Dur...</td>\n",
              "      <td>Pope Francis used his annual Christmas Day mes...</td>\n",
              "      <td>News</td>\n",
              "      <td>December 25, 2017</td>\n",
              "    </tr>\n",
              "  </tbody>\n",
              "</table>\n",
              "</div>\n",
              "      <button class=\"colab-df-convert\" onclick=\"convertToInteractive('df-3bb098e7-f306-429d-9402-f38c84a65fae')\"\n",
              "              title=\"Convert this dataframe to an interactive table.\"\n",
              "              style=\"display:none;\">\n",
              "        \n",
              "  <svg xmlns=\"http://www.w3.org/2000/svg\" height=\"24px\"viewBox=\"0 0 24 24\"\n",
              "       width=\"24px\">\n",
              "    <path d=\"M0 0h24v24H0V0z\" fill=\"none\"/>\n",
              "    <path d=\"M18.56 5.44l.94 2.06.94-2.06 2.06-.94-2.06-.94-.94-2.06-.94 2.06-2.06.94zm-11 1L8.5 8.5l.94-2.06 2.06-.94-2.06-.94L8.5 2.5l-.94 2.06-2.06.94zm10 10l.94 2.06.94-2.06 2.06-.94-2.06-.94-.94-2.06-.94 2.06-2.06.94z\"/><path d=\"M17.41 7.96l-1.37-1.37c-.4-.4-.92-.59-1.43-.59-.52 0-1.04.2-1.43.59L10.3 9.45l-7.72 7.72c-.78.78-.78 2.05 0 2.83L4 21.41c.39.39.9.59 1.41.59.51 0 1.02-.2 1.41-.59l7.78-7.78 2.81-2.81c.8-.78.8-2.07 0-2.86zM5.41 20L4 18.59l7.72-7.72 1.47 1.35L5.41 20z\"/>\n",
              "  </svg>\n",
              "      </button>\n",
              "      \n",
              "  <style>\n",
              "    .colab-df-container {\n",
              "      display:flex;\n",
              "      flex-wrap:wrap;\n",
              "      gap: 12px;\n",
              "    }\n",
              "\n",
              "    .colab-df-convert {\n",
              "      background-color: #E8F0FE;\n",
              "      border: none;\n",
              "      border-radius: 50%;\n",
              "      cursor: pointer;\n",
              "      display: none;\n",
              "      fill: #1967D2;\n",
              "      height: 32px;\n",
              "      padding: 0 0 0 0;\n",
              "      width: 32px;\n",
              "    }\n",
              "\n",
              "    .colab-df-convert:hover {\n",
              "      background-color: #E2EBFA;\n",
              "      box-shadow: 0px 1px 2px rgba(60, 64, 67, 0.3), 0px 1px 3px 1px rgba(60, 64, 67, 0.15);\n",
              "      fill: #174EA6;\n",
              "    }\n",
              "\n",
              "    [theme=dark] .colab-df-convert {\n",
              "      background-color: #3B4455;\n",
              "      fill: #D2E3FC;\n",
              "    }\n",
              "\n",
              "    [theme=dark] .colab-df-convert:hover {\n",
              "      background-color: #434B5C;\n",
              "      box-shadow: 0px 1px 3px 1px rgba(0, 0, 0, 0.15);\n",
              "      filter: drop-shadow(0px 1px 2px rgba(0, 0, 0, 0.3));\n",
              "      fill: #FFFFFF;\n",
              "    }\n",
              "  </style>\n",
              "\n",
              "      <script>\n",
              "        const buttonEl =\n",
              "          document.querySelector('#df-3bb098e7-f306-429d-9402-f38c84a65fae button.colab-df-convert');\n",
              "        buttonEl.style.display =\n",
              "          google.colab.kernel.accessAllowed ? 'block' : 'none';\n",
              "\n",
              "        async function convertToInteractive(key) {\n",
              "          const element = document.querySelector('#df-3bb098e7-f306-429d-9402-f38c84a65fae');\n",
              "          const dataTable =\n",
              "            await google.colab.kernel.invokeFunction('convertToInteractive',\n",
              "                                                     [key], {});\n",
              "          if (!dataTable) return;\n",
              "\n",
              "          const docLinkHtml = 'Like what you see? Visit the ' +\n",
              "            '<a target=\"_blank\" href=https://colab.research.google.com/notebooks/data_table.ipynb>data table notebook</a>'\n",
              "            + ' to learn more about interactive tables.';\n",
              "          element.innerHTML = '';\n",
              "          dataTable['output_type'] = 'display_data';\n",
              "          await google.colab.output.renderOutput(dataTable, element);\n",
              "          const docLink = document.createElement('div');\n",
              "          docLink.innerHTML = docLinkHtml;\n",
              "          element.appendChild(docLink);\n",
              "        }\n",
              "      </script>\n",
              "    </div>\n",
              "  </div>\n",
              "  "
            ]
          },
          "metadata": {},
          "execution_count": 4
        }
      ],
      "source": [
        "fake_df.head(5)"
      ]
    },
    {
      "cell_type": "code",
      "execution_count": 5,
      "metadata": {
        "id": "ZI04OKVUGzXh"
      },
      "outputs": [],
      "source": [
        "fake_df['target'] = 0\n",
        "real_df['target'] = 1"
      ]
    },
    {
      "cell_type": "code",
      "execution_count": 6,
      "metadata": {
        "colab": {
          "base_uri": "https://localhost:8080/"
        },
        "id": "94SDkCAMHN8x",
        "outputId": "a07a68c9-90b2-441c-983f-32749bb47a36"
      },
      "outputs": [
        {
          "output_type": "stream",
          "name": "stderr",
          "text": [
            "<ipython-input-6-9a57a322ad1d>:1: FutureWarning: The frame.append method is deprecated and will be removed from pandas in a future version. Use pandas.concat instead.\n",
            "  df = fake_df.append(real_df)\n"
          ]
        }
      ],
      "source": [
        "df = fake_df.append(real_df)\n",
        "df = df.sample(frac=1)\n",
        "df = df.reset_index(drop=True)"
      ]
    },
    {
      "cell_type": "code",
      "execution_count": 7,
      "metadata": {
        "colab": {
          "base_uri": "https://localhost:8080/",
          "height": 363
        },
        "id": "Wz0lVT7aHfmu",
        "outputId": "c7ba0bc3-e887-458d-eb78-bd2b18033312"
      },
      "outputs": [
        {
          "output_type": "execute_result",
          "data": {
            "text/plain": [
              "                                               title  \\\n",
              "0  UPDATED VIDEO: IS THIS AMERICA? CONSERVATIVES ...   \n",
              "1  U.S. quits talks on global migration pact over...   \n",
              "2  Philippine mobile phone trader 'collected fund...   \n",
              "3  VIOLENT ENVIRONMENTAL LUNATICS Cost Taxpayers ...   \n",
              "4   The NRA Is ‘Proud’ That They Just Made A Vira...   \n",
              "5   Even The Pope Is F*cking Trump Up On Twitter ...   \n",
              "6   The Numbers Are In And Jon Ossoff Losing The ...   \n",
              "7             The Changing Face of Mainstream Media?   \n",
              "8  HOUSE ISSUES SUBPOENAS for Key Obama Administr...   \n",
              "9  HYPOCRITES! CHECK OUT Massive Structure Party ...   \n",
              "\n",
              "                                                text          subject  \\\n",
              "0  This story should send chills down the spine o...         politics   \n",
              "1  UNITED NATIONS (Reuters) - The United States h...        worldnews   \n",
              "2  MANILA (Reuters) - Philippine security forces ...        worldnews   \n",
              "3  Environmental Protection Agency administrator ...         politics   \n",
              "4  The National Rifle Association, who has become...             News   \n",
              "5  Donald Trump has taken a beating on his favori...             News   \n",
              "6  Last Tuesday, Georgia held a special election ...             News   \n",
              "7  21st Century Wire says One of the biggest tren...          US_News   \n",
              "8  Finally! Remember when Senator Lyndsey Graham ...  Government News   \n",
              "9  It s interesting how the media has completely ...        left-news   \n",
              "\n",
              "                date  target  \n",
              "0       Apr 21, 2015       0  \n",
              "1  December 3, 2017        1  \n",
              "2  October 27, 2017        1  \n",
              "3        Nov 2, 2017       0  \n",
              "4      June 29, 2017       0  \n",
              "5     March 19, 2017       0  \n",
              "6      June 26, 2017       0  \n",
              "7  February 17, 2017       0  \n",
              "8       May 31, 2017       0  \n",
              "9       Jul 24, 2016       0  "
            ],
            "text/html": [
              "\n",
              "  <div id=\"df-9d5fec4c-435f-49e7-b1ba-9cc3a41e2af3\">\n",
              "    <div class=\"colab-df-container\">\n",
              "      <div>\n",
              "<style scoped>\n",
              "    .dataframe tbody tr th:only-of-type {\n",
              "        vertical-align: middle;\n",
              "    }\n",
              "\n",
              "    .dataframe tbody tr th {\n",
              "        vertical-align: top;\n",
              "    }\n",
              "\n",
              "    .dataframe thead th {\n",
              "        text-align: right;\n",
              "    }\n",
              "</style>\n",
              "<table border=\"1\" class=\"dataframe\">\n",
              "  <thead>\n",
              "    <tr style=\"text-align: right;\">\n",
              "      <th></th>\n",
              "      <th>title</th>\n",
              "      <th>text</th>\n",
              "      <th>subject</th>\n",
              "      <th>date</th>\n",
              "      <th>target</th>\n",
              "    </tr>\n",
              "  </thead>\n",
              "  <tbody>\n",
              "    <tr>\n",
              "      <th>0</th>\n",
              "      <td>UPDATED VIDEO: IS THIS AMERICA? CONSERVATIVES ...</td>\n",
              "      <td>This story should send chills down the spine o...</td>\n",
              "      <td>politics</td>\n",
              "      <td>Apr 21, 2015</td>\n",
              "      <td>0</td>\n",
              "    </tr>\n",
              "    <tr>\n",
              "      <th>1</th>\n",
              "      <td>U.S. quits talks on global migration pact over...</td>\n",
              "      <td>UNITED NATIONS (Reuters) - The United States h...</td>\n",
              "      <td>worldnews</td>\n",
              "      <td>December 3, 2017</td>\n",
              "      <td>1</td>\n",
              "    </tr>\n",
              "    <tr>\n",
              "      <th>2</th>\n",
              "      <td>Philippine mobile phone trader 'collected fund...</td>\n",
              "      <td>MANILA (Reuters) - Philippine security forces ...</td>\n",
              "      <td>worldnews</td>\n",
              "      <td>October 27, 2017</td>\n",
              "      <td>1</td>\n",
              "    </tr>\n",
              "    <tr>\n",
              "      <th>3</th>\n",
              "      <td>VIOLENT ENVIRONMENTAL LUNATICS Cost Taxpayers ...</td>\n",
              "      <td>Environmental Protection Agency administrator ...</td>\n",
              "      <td>politics</td>\n",
              "      <td>Nov 2, 2017</td>\n",
              "      <td>0</td>\n",
              "    </tr>\n",
              "    <tr>\n",
              "      <th>4</th>\n",
              "      <td>The NRA Is ‘Proud’ That They Just Made A Vira...</td>\n",
              "      <td>The National Rifle Association, who has become...</td>\n",
              "      <td>News</td>\n",
              "      <td>June 29, 2017</td>\n",
              "      <td>0</td>\n",
              "    </tr>\n",
              "    <tr>\n",
              "      <th>5</th>\n",
              "      <td>Even The Pope Is F*cking Trump Up On Twitter ...</td>\n",
              "      <td>Donald Trump has taken a beating on his favori...</td>\n",
              "      <td>News</td>\n",
              "      <td>March 19, 2017</td>\n",
              "      <td>0</td>\n",
              "    </tr>\n",
              "    <tr>\n",
              "      <th>6</th>\n",
              "      <td>The Numbers Are In And Jon Ossoff Losing The ...</td>\n",
              "      <td>Last Tuesday, Georgia held a special election ...</td>\n",
              "      <td>News</td>\n",
              "      <td>June 26, 2017</td>\n",
              "      <td>0</td>\n",
              "    </tr>\n",
              "    <tr>\n",
              "      <th>7</th>\n",
              "      <td>The Changing Face of Mainstream Media?</td>\n",
              "      <td>21st Century Wire says One of the biggest tren...</td>\n",
              "      <td>US_News</td>\n",
              "      <td>February 17, 2017</td>\n",
              "      <td>0</td>\n",
              "    </tr>\n",
              "    <tr>\n",
              "      <th>8</th>\n",
              "      <td>HOUSE ISSUES SUBPOENAS for Key Obama Administr...</td>\n",
              "      <td>Finally! Remember when Senator Lyndsey Graham ...</td>\n",
              "      <td>Government News</td>\n",
              "      <td>May 31, 2017</td>\n",
              "      <td>0</td>\n",
              "    </tr>\n",
              "    <tr>\n",
              "      <th>9</th>\n",
              "      <td>HYPOCRITES! CHECK OUT Massive Structure Party ...</td>\n",
              "      <td>It s interesting how the media has completely ...</td>\n",
              "      <td>left-news</td>\n",
              "      <td>Jul 24, 2016</td>\n",
              "      <td>0</td>\n",
              "    </tr>\n",
              "  </tbody>\n",
              "</table>\n",
              "</div>\n",
              "      <button class=\"colab-df-convert\" onclick=\"convertToInteractive('df-9d5fec4c-435f-49e7-b1ba-9cc3a41e2af3')\"\n",
              "              title=\"Convert this dataframe to an interactive table.\"\n",
              "              style=\"display:none;\">\n",
              "        \n",
              "  <svg xmlns=\"http://www.w3.org/2000/svg\" height=\"24px\"viewBox=\"0 0 24 24\"\n",
              "       width=\"24px\">\n",
              "    <path d=\"M0 0h24v24H0V0z\" fill=\"none\"/>\n",
              "    <path d=\"M18.56 5.44l.94 2.06.94-2.06 2.06-.94-2.06-.94-.94-2.06-.94 2.06-2.06.94zm-11 1L8.5 8.5l.94-2.06 2.06-.94-2.06-.94L8.5 2.5l-.94 2.06-2.06.94zm10 10l.94 2.06.94-2.06 2.06-.94-2.06-.94-.94-2.06-.94 2.06-2.06.94z\"/><path d=\"M17.41 7.96l-1.37-1.37c-.4-.4-.92-.59-1.43-.59-.52 0-1.04.2-1.43.59L10.3 9.45l-7.72 7.72c-.78.78-.78 2.05 0 2.83L4 21.41c.39.39.9.59 1.41.59.51 0 1.02-.2 1.41-.59l7.78-7.78 2.81-2.81c.8-.78.8-2.07 0-2.86zM5.41 20L4 18.59l7.72-7.72 1.47 1.35L5.41 20z\"/>\n",
              "  </svg>\n",
              "      </button>\n",
              "      \n",
              "  <style>\n",
              "    .colab-df-container {\n",
              "      display:flex;\n",
              "      flex-wrap:wrap;\n",
              "      gap: 12px;\n",
              "    }\n",
              "\n",
              "    .colab-df-convert {\n",
              "      background-color: #E8F0FE;\n",
              "      border: none;\n",
              "      border-radius: 50%;\n",
              "      cursor: pointer;\n",
              "      display: none;\n",
              "      fill: #1967D2;\n",
              "      height: 32px;\n",
              "      padding: 0 0 0 0;\n",
              "      width: 32px;\n",
              "    }\n",
              "\n",
              "    .colab-df-convert:hover {\n",
              "      background-color: #E2EBFA;\n",
              "      box-shadow: 0px 1px 2px rgba(60, 64, 67, 0.3), 0px 1px 3px 1px rgba(60, 64, 67, 0.15);\n",
              "      fill: #174EA6;\n",
              "    }\n",
              "\n",
              "    [theme=dark] .colab-df-convert {\n",
              "      background-color: #3B4455;\n",
              "      fill: #D2E3FC;\n",
              "    }\n",
              "\n",
              "    [theme=dark] .colab-df-convert:hover {\n",
              "      background-color: #434B5C;\n",
              "      box-shadow: 0px 1px 3px 1px rgba(0, 0, 0, 0.15);\n",
              "      filter: drop-shadow(0px 1px 2px rgba(0, 0, 0, 0.3));\n",
              "      fill: #FFFFFF;\n",
              "    }\n",
              "  </style>\n",
              "\n",
              "      <script>\n",
              "        const buttonEl =\n",
              "          document.querySelector('#df-9d5fec4c-435f-49e7-b1ba-9cc3a41e2af3 button.colab-df-convert');\n",
              "        buttonEl.style.display =\n",
              "          google.colab.kernel.accessAllowed ? 'block' : 'none';\n",
              "\n",
              "        async function convertToInteractive(key) {\n",
              "          const element = document.querySelector('#df-9d5fec4c-435f-49e7-b1ba-9cc3a41e2af3');\n",
              "          const dataTable =\n",
              "            await google.colab.kernel.invokeFunction('convertToInteractive',\n",
              "                                                     [key], {});\n",
              "          if (!dataTable) return;\n",
              "\n",
              "          const docLinkHtml = 'Like what you see? Visit the ' +\n",
              "            '<a target=\"_blank\" href=https://colab.research.google.com/notebooks/data_table.ipynb>data table notebook</a>'\n",
              "            + ' to learn more about interactive tables.';\n",
              "          element.innerHTML = '';\n",
              "          dataTable['output_type'] = 'display_data';\n",
              "          await google.colab.output.renderOutput(dataTable, element);\n",
              "          const docLink = document.createElement('div');\n",
              "          docLink.innerHTML = docLinkHtml;\n",
              "          element.appendChild(docLink);\n",
              "        }\n",
              "      </script>\n",
              "    </div>\n",
              "  </div>\n",
              "  "
            ]
          },
          "metadata": {},
          "execution_count": 7
        }
      ],
      "source": [
        "df.head(10)"
      ]
    },
    {
      "cell_type": "code",
      "execution_count": 8,
      "metadata": {
        "colab": {
          "base_uri": "https://localhost:8080/"
        },
        "id": "2FPeDoK7HjLH",
        "outputId": "54bffe1d-e206-4ad0-ebb1-10039b262be4"
      },
      "outputs": [
        {
          "output_type": "execute_result",
          "data": {
            "text/plain": [
              "politicsNews       11272\n",
              "worldnews          10145\n",
              "News                9050\n",
              "politics            6841\n",
              "left-news           4459\n",
              "Government News     1570\n",
              "US_News              783\n",
              "Middle-east          778\n",
              "Name: subject, dtype: int64"
            ]
          },
          "metadata": {},
          "execution_count": 8
        }
      ],
      "source": [
        "df['subject'].value_counts()"
      ]
    },
    {
      "cell_type": "code",
      "execution_count": 9,
      "metadata": {
        "id": "Mw445ekrHqUE"
      },
      "outputs": [],
      "source": [
        "df.replace({\"politicsNews\": \"politics-news\", 'politics': 'politics-news'}, inplace=True)"
      ]
    },
    {
      "cell_type": "code",
      "execution_count": 10,
      "metadata": {
        "colab": {
          "base_uri": "https://localhost:8080/"
        },
        "id": "P0Z6HvAWH7aj",
        "outputId": "fa7744b3-c6ea-4c5d-ba17-d3007f7a9b97"
      },
      "outputs": [
        {
          "output_type": "execute_result",
          "data": {
            "text/plain": [
              "politics-news      18113\n",
              "worldnews          10145\n",
              "News                9050\n",
              "left-news           4459\n",
              "Government News     1570\n",
              "US_News              783\n",
              "Middle-east          778\n",
              "Name: subject, dtype: int64"
            ]
          },
          "metadata": {},
          "execution_count": 10
        }
      ],
      "source": [
        "df['subject'].value_counts()"
      ]
    },
    {
      "cell_type": "code",
      "execution_count": 11,
      "metadata": {
        "colab": {
          "base_uri": "https://localhost:8080/"
        },
        "id": "Lm6BQAF9ICNV",
        "outputId": "84dfbd08-e40a-4e55-8ddc-adfc748ac05d"
      },
      "outputs": [
        {
          "output_type": "stream",
          "name": "stderr",
          "text": [
            "[nltk_data] Downloading package stopwords to /root/nltk_data...\n",
            "[nltk_data]   Package stopwords is already up-to-date!\n",
            "[nltk_data] Downloading package wordnet to /root/nltk_data...\n",
            "[nltk_data]   Package wordnet is already up-to-date!\n",
            "[nltk_data] Downloading package punkt to /root/nltk_data...\n",
            "[nltk_data]   Package punkt is already up-to-date!\n"
          ]
        }
      ],
      "source": [
        "nltk.download('stopwords')\n",
        "nltk.download('wordnet')\n",
        "nltk.download('punkt')\n",
        "stop_words = stopwords.words('english')"
      ]
    },
    {
      "cell_type": "code",
      "execution_count": 12,
      "metadata": {
        "id": "fzrZ61u-IZZ3"
      },
      "outputs": [],
      "source": [
        "def process_text(text):\n",
        "    # Tokenize the text\n",
        "    tokens = nltk.word_tokenize(text)\n",
        "    \n",
        "    # Remove stop words and non-alphabetic tokens\n",
        "    filtered_tokens = [token.lower() for token in tokens if token.lower() not in stop_words and token.isalpha()]\n",
        "    \n",
        "    # Lemmatize the remaining tokens\n",
        "    lemmatized_tokens = [lemmatizer.lemmatize(token) for token in filtered_tokens]\n",
        "    \n",
        "    # Remove duplicate tokens\n",
        "    unique_tokens = list(set(lemmatized_tokens))\n",
        "    \n",
        "    # Join the unique tokens back into a string\n",
        "    processed_text = \" \".join(unique_tokens)\n",
        "    \n",
        "    return processed_text"
      ]
    },
    {
      "cell_type": "code",
      "source": [
        "stop_words = set(stopwords.words('english'))\n",
        "\n",
        "lemmatizer = WordNetLemmatizer()"
      ],
      "metadata": {
        "id": "fr7hcosjJhxo"
      },
      "execution_count": 13,
      "outputs": []
    },
    {
      "cell_type": "code",
      "source": [
        "batch_size = 1000\n",
        "\n",
        "# Get the number of rows in the dataframe\n",
        "num_rows = df.shape[0]\n",
        "\n",
        "# Loop through the data in batches\n",
        "for i in range(0, num_rows, batch_size):\n",
        "    # Get the current batch\n",
        "    batch = df.loc[i:i+batch_size-1, 'title']\n",
        "\n",
        "    # Process the current batch\n",
        "    processed_batch = batch.apply(process_text)\n",
        "\n",
        "    # Update the original dataframe with the processed data\n",
        "    df.loc[i:i+batch_size-1, 'clean_title'] = processed_batch"
      ],
      "metadata": {
        "id": "1NRYTeJvJPbn"
      },
      "execution_count": 14,
      "outputs": []
    },
    {
      "cell_type": "code",
      "execution_count": 15,
      "metadata": {
        "id": "g_XV0-IDI_Q4"
      },
      "outputs": [],
      "source": [
        "df['article'] = df['title'] + \" \" + df['text']"
      ]
    },
    {
      "cell_type": "code",
      "execution_count": 16,
      "metadata": {
        "colab": {
          "base_uri": "https://localhost:8080/",
          "height": 122
        },
        "id": "GC__ocG6Kwzr",
        "outputId": "e1cdf8d3-e3a4-49c2-c189-366c842c4756"
      },
      "outputs": [
        {
          "output_type": "execute_result",
          "data": {
            "text/plain": [
              "'UPDATED VIDEO: IS THIS AMERICA? CONSERVATIVES And Their Families Experience SHOCKING ABUSE And SHAMING In Their Homes Ordered By Leftist DA As Part Of Insane Vendetta This story should send chills down the spine of every American. Communism is on our doorstep THEY CAME WITH A BATTERING RAM. Cindy Archer, one of the lead architects of Wisconsin s Act 10   also called the  Wisconsin Budget Repair Bill,  it limited public-employee benefits and altered collective-bargaining rules for public-employee unions   was jolted awake by yelling, loud pounding at the door, and her dogs  frantic barking. The entire house   the windows and walls   was shaking.She looked outside to see up to a dozen police officers, yelling to open the door. They were carrying a battering ram. She wasn t dressed, but she started to run toward the door, her body in full view of the police. Some yelled at her to grab some clothes, others yelled for her to open the door. I was so afraid,  she says.  I did not know what to do.  She grabbed some clothes, opened the door, and dressed right in front of the police. The dogs were still frantic. I begged and begged,  Please don t shoot my dogs, please don t shoot my dogs, just don t shoot my dogs.  I couldn t get them to stop barking, and I couldn t get them outside quick enough. I saw a gun and barking dogs. I was scared and knew this was a bad mix.  She got the dogs safely out of the house, just as multiple armed agents rushed inside.Some even barged into the bathroom, where her partner was in the shower. The officer or agent in charge demanded that Cindy sit on the couch, but she wanted to get up and get a cup of coffee.  I told him this was my house and I could do what I wanted.  Wrong thing to say.  This made the agent in charge furious. He towered over me with his finger in my face and yelled like a drill sergeant that I either do it his way or he would handcuff me. They wouldn t let her speak to a lawyer.She looked outside and saw a person who appeared to be a reporter. Someone had tipped him off. The neighbors started to come outside, curious at the commotion, and all the while the police searched her house, making a mess, and   according to Cindy   leaving her  dead mother s belongings strewn across the basement floor in a most disrespectful way. Then they left, carrying with them only a cellphone and a laptop.Here is a videotaped interview of a neighbor who witnessed the police invasion of her home: IT S A MATTER OF LIFE OR DEATH.  That was the first thought of  Anne  (not her real name).Someone was pounding at her front door. It was early in the morning   very early   and it was the kind of heavy pounding that meant someone was either fleeing from   or bringing   trouble.  It was so hard. I d never heard anything like it. I thought someone was dying outside. She ran to the door, opened it, and then chaos.  People came pouring in. For a second I thought it was a home invasion. It was terrifying. They were yelling and running, into every room in the house. One of the men was in my face, yelling at me over and over and over. It was indeed a home invasion, but the people who were pouring in were Wisconsin law-enforcement officers. Armed, uniformed police swarmed into the house. Plainclothes investigators cornered her and her newly awakened family.Soon, state officials were seizing the family s personal property, including each person s computer and smartphone, filled with the most intimate family information.Why were the police at Anne s home? She had no answers. The police were treating them the way they d seen police treat drug dealers on television. In fact, TV or movies were their only points of reference, because they weren t criminals. They were law-abiding. They didn t buy or sell drugs. They weren t violent. They weren t a danger to anyone. Yet there were cops   surrounding their house on the outside, swarming the house on the inside.They even taunted the family as if they were mere  perps. As if the home invasion, the appropriation of private property, and the verbal abuse weren t enough, next came ominous warnings.Don t call your lawyer. Don t tell anyone about this raid. Not even your mother, your father, or your closest friends.The entire neighborhood could see the police around their house, but they had to remain silent. This was not the  right to remain silent  as uttered by every cop on every legal drama on television   the right against self-incrimination.They couldn t mount a public defense if they wanted   or even offer an explanation to family and friends. Yet no one in this family was a  perp. Instead, like Cindy, they were American citizens guilty of nothing more than exercising their First Amendment rights to support Act 10 and other conservative causes in Wisconsin. Sitting there shocked and terrified, this citizen   who is still too intimidated to speak on the record   kept thinking,  Is this America? THEY FOLLOWED ME TO MY KIDS  ROOMS.  For the family of  Rachel  (not her real name), the ordeal began before dawn   with the same loud, insistent knocking. Still in her pajamas, Rachel answered the door and saw uniformed police, poised to enter her home.When Rachel asked to wake her children herself, the officer insisted on walking into their rooms. The kids woke to an armed officer, standing near their beds. The entire family was herded into one room, and there they watched as the police carried off their personal possessions, including items that had nothing to do with the subject of the search warrant   even her daughter s computer.And, yes, there were the warnings. Don t call your lawyer. Don t talk to anyone about this. Don t tell your friends.The kids watched   alarmed   as the school bus drove by, with the students inside watching the spectacle of uniformed police surrounding the house, carrying out the family s belongings. Yet they were told they couldn t tell anyone at school. They, too, had to remain silent.The mom watched as her entire life was laid open before the police. Her professional files, her personal files, everything. She knew this was all politics. She knew a rogue prosecutor was targeting her for her political beliefs. And she realized,  Every aspect of my life is in their hands. And they hate me. Fortunately for her family, the police didn t taunt her or her children. Some of them seemed embarrassed by what they were doing. At the end of the ordeal, one officer looked at the family, still confined to one room, and said,  Some days, I hate my job. For dozens of conservatives, the years since Scott Walker s first election as governor of Wisconsin transformed the state   known for pro-football championships, good cheese, and a population with a reputation for being unfailingly polite   into a place where conservatives have faced early-morning raids, multi-year secretive criminal investigations, slanderous and selective leaks to sympathetic media, and intrusive electronic snooping.Yes, Wisconsin, the cradle of the progressive movement and home of the  Wisconsin idea    the marriage of state governments and state universities to govern through technocratic reform   was giving birth to a new progressive idea, the use of law enforcement as a political instrument, as a weapon to attempt to undo election results, shame opponents, and ruin lives.Most Americans have never heard of these raids, or of the lengthy criminal investigations of Wisconsin conservatives. For good reason. Bound by comprehensive secrecy orders, conservatives were left to suffer in silence as leaks ruined their reputations, as neighbors, looking through windows and dismayed at the massive police presence, the lights shining down on targets  homes, wondered, no doubt, What on earth did that family do?This was the on-the-ground reality of the so-called John Doe investigations, expansive and secret criminal proceedings that directly targeted Wisconsin residents because of their relationship to Scott Walker, their support for Act 10, and their advocacy of conservative reform.Largely hidden from the public eye, this traumatic process, however, is now heading toward a legal climax, with two key rulings expected in the late spring or early summer.The first ruling, from the Wisconsin supreme court, could halt the investigations for good, in part by declaring that the  misconduct  being investigated isn t misconduct at all but the simple exercise of First Amendment rights.The second ruling, from the United States Supreme Court, could grant review on a federal lawsuit brought by Wisconsin political activist Eric O Keefe and the Wisconsin Club for Growth, the first conservatives to challenge the investigations head-on.If the Court grants review, it could not only halt the investigations but also begin the process of holding accountable those public officials who have so abused their powers.But no matter the outcome of these court hearings, the damage has been done. In the words of Mr. O Keefe,  The process is the punishment. UPDATED VIDEO INTERVIEW WITH BLAZE TV s DANA LOESCH:It all began innocently enough. In 2009, officials from the office of the Milwaukee County executive contacted the office of the Milwaukee district attorney, headed by John Chisholm, to investigate the disappearance of $11,242.24 from the Milwaukee chapter of the Order of the Purple Heart.The matter was routine, with witnesses willing and able to testify against the principal suspect, a man named Kevin Kavanaugh.What followed, however, was anything but routine. Chisholm failed to act promptly on the report, and when he did act, he refused to conduct a conventional criminal investigation but instead petitioned, in May 2010, to open a  John Doe  investigation, a proceeding under Wisconsin law that permits Wisconsin officials to conduct extensive investigations while keeping the target s identity secret (hence the designation  John Doe ).John Doe investigations alter typical criminal procedure in two important ways: First, they remove grand juries from the investigative process, replacing the ordinary citizens of a grand jury with a supervising judge.Second, they can include strict secrecy requirements not just on the prosecution but also on the targets of the investigation. In practice, this means that, while the prosecution cannot make public comments about the investigation, it can take public actions indicating criminal suspicion (such as raiding businesses and homes in full view of the community) while preventing the targets of the raids from defending against or even discussing the prosecution s claims.Why would Chisholm seek such broad powers to investigate a year-old embezzlement claim with a known suspect? Because the Milwaukee County executive, Scott Walker, had by that time become the leading Republican candidate for governor. District Attorney Chisholm was a Democrat, a very partisan Democrat.Almost immediately after opening the John Doe investigation, Chisholm used his expansive powers to embarrass Walker, raiding his county-executive offices within a week.As Mr. O Keefe and the Wisconsin Club for Growth explained in court filings, the investigation then dramatically expanded: Over the next few months, [Chisholm s] investigation of all-things-Walker expanded to include everything from alleged campaign-finance violations to sexual misconduct to alleged public contracting bid-rigging to alleged misuse of county time and property.Between May 5, 2010, and May 3, 2012, the Milwaukee Defendants filed at least eighteen petitions to formally  [e]nlarge  the scope of the John Doe investigation, and each was granted. . .That amounts to a new formal inquiry every five and a half weeks, on average, for two years.This expansion coincided with one of the more remarkable state-level political controversies in modern American history   the protest (and passage) of Act 10, followed by the attempted recall of a number of Wisconsin legislators and, ultimately, Governor Walker.Political observers will no doubt remember the events in Madison   the state capitol overrun by chanting protesters, Democratic lawmakers fleeing the state to prevent votes on the legislation, and tens of millions of dollars of outside money flowing into the state as Wisconsin became, fundamentally, a proxy fight pitting the union-led Left against the Tea Party led economic Right.At the same time that the public protests were raging, so were private   but important   protests in the Chisholm home and workplace.As a former prosecutor told journalist Stuart Taylor, Chisholm s wife was a teachers -union shop steward who was distraught over Act 10 s union reforms. He said Chisholm  felt it was his personal duty  to stop them. Meanwhile, according to this whistleblower, the district attorney s offices were festooned with the  blue fist  poster of the labor-union movement, indicating that Chisholm s employees were very much invested in the political fight.In the end, the John Doe proceeding failed in its ultimate aims. It secured convictions for embezzlement (related to the original 2009 complaint), a conviction for sexual misconduct, and a few convictions for minor campaign violations, but Governor Walker was untouched, his reforms were implemented, and he survived his recall election. But with another election looming   this time Walker s campaign for reelection   Chisholm wasn t finished.He launched yet another John Doe investigation,  supervised  by Judge Barbara Kluka. Kluka proved to be capable of superhuman efficiency   approving  every petition, subpoena, and search warrant in the case  in a total of one day s work.If the first series of John Doe investigations was  everything Walker,  the second series was  everything conservative,  as Chisholm had launched an investigation of not only Walker (again) but the Wisconsin Club for Growth and dozens of other conservative organizations, this time fishing for evidence of allegedly illegal  coordination  between conservative groups and the Walker campaign.In the second John Doe, Chisholm had no real evidence of wrongdoing. Yes, conservative groups were active in issue advocacy, but issue advocacy was protected by the First Amendment and did not violate relevant campaign laws.Nonetheless, Chisholm persuaded prosecutors in four other counties to launch their own John Does, with Judge Kluka overseeing all of them.Empowered by a rubber-stamp judge, partisan investigators ran amok. They subpoenaed and obtained (without the conservative targets  knowledge) massive amounts of electronic data, including virtually all the targets  personal e-mails and other electronic messages from outside e-mail vendors and communications companies.The investigations exploded into the open with a coordinated series of raids on October 3, 2013. These were home invasions, including those described above. Chisholm s office refused to comment on the raid tactics (or any other aspect of the John Doe investigations), but witness accounts regarding the two John Doe investigations are remarkably similar: early-morning intrusions, police rushing through the house, and stern commands to remain silent and tell no one about what had occurred.At the same time, the Wisconsin Club for Growth and other conservative organizations received broad subpoenas requiring them to turn over virtually all business records, including  donor information, correspondence with their associates, and all financial information.  The subpoenas also contained dire warnings about disclosure of their existence, threatening contempt of court if the targets spoke publicly.For select conservative families across five counties, this was the terrifying moment   the moment they felt at the mercy of a truly malevolent state.Speaking both on and off the record, targets reflected on how many layers of Wisconsin government failed their fundamental constitutional duties   the prosecutors who launched the rogue investigations, the judge who gave the abuse judicial sanction, investigators who chose to taunt and intimidate during the raids, and those police who ultimately approved and executed aggressive search tactics on law-abiding, peaceful citizens.For some of the families, the trauma of the raids, combined with the stress and anxiety of lengthy criminal investigations, has led to serious emotional repercussions.  Devastating  is how Anne describes the impact on her family.  Life-changing,  she says.  All in terrible ways. O Keefe, who has been in contact with multiple targeted families, says,  Every family I know of that endured a home raid has been shaken to its core, and the fate of marriages and families still hangs in the balance in some cases. Anne also describes a new fear of the police:  I used to support the police, to believe they were here to protect us. Now, when I see an officer, I ll cross the street. I m afraid of them. I know what they re capable of.  Cindy says,  I lock my doors and I close my shades. I don t answer the door unless I am expecting someone. My heart races when I see a police car sitting in front of my house or following me in the car.The raid was so public. I ve been harassed. My house has been vandalized. [She did not identify suspects.] I no longer feel safe, and I don t think I ever will. Rachel talks about the effect on her children.  I tried to create a home where the kids always feel safe. Now they know they re not. They know men with guns can come in their house, and there s nothing we can do.  Every knock on the door brings anxiety. Every call to the house is screened. In the back of her mind is a single, unsettling thought: These people will never stop.Victims of trauma   and every person I spoke with described the armed raids as traumatic   often need to talk, to share their experiences and seek solace in the company of a loving family and supportive friends. The investigators denied them that privilege, and it compounded their pain and fear. The investigation not only damaged families, it also shut down their free speech. In many cases, the investigations halted conservative groups in their tracks.O Keefe and the Wisconsin Club for Growth described the effect in court filings: O Keefe s associates began cancelling meetings with him and declining to take his calls, reasonably fearful that merely associating with him could make them targets of the investigation.O Keefe was forced to abandon fundraising for the Club because he could no longer guarantee to donors that their identities would remain confidential, could not (due to the Secrecy Order) explain to potential donors the nature of the investigation, could not assuage donors  fears that they might become targets themselves, and could not assure donors that their money would go to fund advocacy rather than legal expenses.The Club was also paralyzed. Its officials could not associate with its key supporters, and its funds were depleted. It could not engage in issue advocacy for fear of criminal sanction.These raids and subpoenas were often based not on traditional notions of probable cause but on mere suspicion, untethered to the law or evidence, and potentially violating the Fourth Amendment s prohibition against  unreasonable searches and seizures.  The very existence of First Amendment protected expression was deemed to be evidence of illegality.The prosecution simply assumed that the conservatives were incapable of operating within the bounds of the law. Even worse, many of the investigators  legal theories, even if proven by the evidence, would not have supported criminal prosecutions. In other words, they were investigating  crimes  that weren t crimes at all.If the prosecutors had applied the same legal standards to the Democrats in their own offices, they would have been forced to turn the raids on themselves. If the prosecutors and investigators had been raided, how many of their computers and smartphones would have contained incriminating information indicating use of government resources for partisan purposes?With the investigations now bursting out into the open, some conservatives began to fight back. O Keefe and the Wisconsin Club for Growth moved to quash the John Doe subpoenas aimed at them.In a surprise move, Judge Kluka, who had presided over the Doe investigations for more than a year, recused herself from the case. (A political journal, the Wisconsin Reporter, attempted to speak to Judge Kluka about her recusal, but she refused to offer comment.)The new judge in the case, Gregory Peterson, promptly sided with O Keefe and blocked multiple subpoenas, holding (in a sealed opinion obtained by the Wall Street Journal, which has done invaluable work covering the John Doe investigations) that they  do not show probable cause that the moving parties committed any violations of the campaign finance laws. The judge noted that  the State is not claiming that any of the independent organizations expressly advocated  Walker s election. O Keefe and the Wisconsin Club for Growth followed up Judge Peterson s ruling by filing a federal lawsuit against Chisholm and a number of additional defendants, alleging multiple constitutional violations, including a claim that the investigation constituted unlawful retaliation against the plaintiffs for the exercise of their First Amendment rights.United States District Court judge Rudolph Randa promptly granted the plaintiffs  motion for a preliminary injunction, declaring that  the Defendants must cease all activities related to the investigation, return all property seized in the investigation from any individual or organization, and permanently destroy all copies of information and other materials obtained through the investigation. From that point forward, the case proceeded on parallel state and federal tracks. At the federal level, the Seventh Circuit Court of Appeals reversed Judge Randa s order.Declining to consider the case on the merits, the appeals court found the lawsuit barred by the federal Anti-Injunction Act, which prohibits federal courts from issuing injunctions against some state-court proceedings.O Keefe and the Wisconsin Club for Growth have petitioned the Supreme Court for a writ of certiorari and expect a ruling in a matter of weeks.At the same time, the John Doe prosecutors took their case to the Wisconsin Court of Appeals to attempt to restart the Doe proceedings. The case was ultimately consolidated before the state supreme court, with a ruling also expected in a matter of weeks.And so, almost five years after their secret beginning, the John Doe proceedings are nearly dead   on  life support,  according to one Wisconsin pundit   but incalculable damage has been done, to families, to activist organizations, to the First Amendment, and to the rule of law itself.In international law, the Western world has become familiar with a concept called  lawfare,  a process whereby rogue regimes or organizations abuse legal doctrines and processes to accomplish through sheer harassment and attrition what can t be accomplished through legitimate diplomatic means. The Palestinian Authority and its defenders have become adept at lawfare, putting Israel under increasing pressure before the U.N. and other international bodies.The John Doe investigations are a form of domestic lawfare, and our constitutional system is ill equipped to handle it. Federal courts rarely intervene in state judicial proceedings, state officials rarely lose their array of official immunities for the consequences of their misconduct, and violations of First Amendment freedoms rarely result in meaningful monetary damages for the victims.As Scott Walker runs for president, the national media will finally join the Wall Street Journal in covering John Doe.Given the mainstream media s typical bias and bad faith, they are likely to bring a fresh round of pain to the targets of the investigation; the cloud of suspicion will descend once again; even potential favorable court rulings by either the state supreme court or the U.S. Supreme Court will be blamed on  conservative justices  taking care of their own.Conservatives have looked at Wisconsin as a success story, where Walker took everything the Left threw at him and emerged victorious in three general elections. He broke the power of the teachers  unions and absorbed millions upon millions of dollars of negative ads. The Left kept chanting,  This is what democracy looks like,  and in Wisconsin, democracy looked like Scott Walker winning again and again.Yet in a deeper way, Wisconsin is anything but a success. There were casualties left on the battlefield   innocent citizens victimized by a lawless government mob, public officials who brought the full power of their office down onto the innocent.Governors come and go. Statutes are passed and repealed. Laws and elections are important, to be sure, but the rule of law is more important still. And in Wisconsin, the rule of law hangs in the balance   along with the liberty of citizens.As I finished an interview with one victim still living in fear, still shattered by the experience of nearly losing everything simply because she supported the wrong candidate at the wrong time, I asked whether she had any final thoughts.  Just one,  she replied.  I m hoping for accountability, that someone will be held responsible so that they ll never do this again.  She paused for a moment and then, with voice trembling, said:  No one should ever endure what my family endured. Via: National Review'"
            ],
            "application/vnd.google.colaboratory.intrinsic+json": {
              "type": "string"
            }
          },
          "metadata": {},
          "execution_count": 16
        }
      ],
      "source": [
        "df['article'].iloc[0]"
      ]
    },
    {
      "cell_type": "code",
      "execution_count": 17,
      "metadata": {
        "colab": {
          "base_uri": "https://localhost:8080/",
          "height": 35
        },
        "id": "ubpCI0-sKzqy",
        "outputId": "e49077b1-7f28-48bd-d49c-f1e688ab254f"
      },
      "outputs": [
        {
          "output_type": "execute_result",
          "data": {
            "text/plain": [
              "\"Philippine mobile phone trader 'collected funds' for Marawi attackers\""
            ],
            "application/vnd.google.colaboratory.intrinsic+json": {
              "type": "string"
            }
          },
          "metadata": {},
          "execution_count": 17
        }
      ],
      "source": [
        "df['title'].iloc[2]"
      ]
    },
    {
      "cell_type": "code",
      "execution_count": 19,
      "metadata": {
        "colab": {
          "base_uri": "https://localhost:8080/",
          "height": 35
        },
        "id": "gN5mXke3LJCb",
        "outputId": "f209ecd6-8375-4446-f615-0a12a4d9a170"
      },
      "outputs": [
        {
          "output_type": "execute_result",
          "data": {
            "text/plain": [
              "'marawi mobile phone fund trader attacker philippine'"
            ],
            "application/vnd.google.colaboratory.intrinsic+json": {
              "type": "string"
            }
          },
          "metadata": {},
          "execution_count": 19
        }
      ],
      "source": [
        "df['clean_title'].iloc[2]"
      ]
    },
    {
      "cell_type": "code",
      "execution_count": 20,
      "metadata": {
        "colab": {
          "base_uri": "https://localhost:8080/"
        },
        "id": "VuWP8Xf5LMcp",
        "outputId": "5c0fcf8d-e580-405a-823a-86f35e85e82f"
      },
      "outputs": [
        {
          "output_type": "execute_result",
          "data": {
            "text/plain": [
              "Index(['title', 'text', 'subject', 'date', 'target', 'clean_title', 'article'], dtype='object')"
            ]
          },
          "metadata": {},
          "execution_count": 20
        }
      ],
      "source": [
        "df.columns"
      ]
    },
    {
      "cell_type": "code",
      "execution_count": 21,
      "metadata": {
        "id": "gD4e11txMFeB"
      },
      "outputs": [],
      "source": [
        "def count_subjects(data):\n",
        "  return data['subject'].count()"
      ]
    },
    {
      "cell_type": "code",
      "execution_count": 22,
      "metadata": {
        "id": "tFQXmNB3O22a"
      },
      "outputs": [],
      "source": [
        "subjects = df.groupby('subject').apply(count_subjects).reset_index(name='count')"
      ]
    },
    {
      "cell_type": "code",
      "execution_count": 23,
      "metadata": {
        "colab": {
          "base_uri": "https://localhost:8080/",
          "height": 269
        },
        "id": "7cgv77uuPCi3",
        "outputId": "2c8e7565-412b-4e0b-8f2c-50fc6e24ee11"
      },
      "outputs": [
        {
          "output_type": "execute_result",
          "data": {
            "text/plain": [
              "           subject  count\n",
              "0  Government News   1570\n",
              "1      Middle-east    778\n",
              "2             News   9050\n",
              "3          US_News    783\n",
              "4        left-news   4459\n",
              "5    politics-news  18113\n",
              "6        worldnews  10145"
            ],
            "text/html": [
              "\n",
              "  <div id=\"df-ee54a09a-0bd5-4091-8d61-341eb0969972\">\n",
              "    <div class=\"colab-df-container\">\n",
              "      <div>\n",
              "<style scoped>\n",
              "    .dataframe tbody tr th:only-of-type {\n",
              "        vertical-align: middle;\n",
              "    }\n",
              "\n",
              "    .dataframe tbody tr th {\n",
              "        vertical-align: top;\n",
              "    }\n",
              "\n",
              "    .dataframe thead th {\n",
              "        text-align: right;\n",
              "    }\n",
              "</style>\n",
              "<table border=\"1\" class=\"dataframe\">\n",
              "  <thead>\n",
              "    <tr style=\"text-align: right;\">\n",
              "      <th></th>\n",
              "      <th>subject</th>\n",
              "      <th>count</th>\n",
              "    </tr>\n",
              "  </thead>\n",
              "  <tbody>\n",
              "    <tr>\n",
              "      <th>0</th>\n",
              "      <td>Government News</td>\n",
              "      <td>1570</td>\n",
              "    </tr>\n",
              "    <tr>\n",
              "      <th>1</th>\n",
              "      <td>Middle-east</td>\n",
              "      <td>778</td>\n",
              "    </tr>\n",
              "    <tr>\n",
              "      <th>2</th>\n",
              "      <td>News</td>\n",
              "      <td>9050</td>\n",
              "    </tr>\n",
              "    <tr>\n",
              "      <th>3</th>\n",
              "      <td>US_News</td>\n",
              "      <td>783</td>\n",
              "    </tr>\n",
              "    <tr>\n",
              "      <th>4</th>\n",
              "      <td>left-news</td>\n",
              "      <td>4459</td>\n",
              "    </tr>\n",
              "    <tr>\n",
              "      <th>5</th>\n",
              "      <td>politics-news</td>\n",
              "      <td>18113</td>\n",
              "    </tr>\n",
              "    <tr>\n",
              "      <th>6</th>\n",
              "      <td>worldnews</td>\n",
              "      <td>10145</td>\n",
              "    </tr>\n",
              "  </tbody>\n",
              "</table>\n",
              "</div>\n",
              "      <button class=\"colab-df-convert\" onclick=\"convertToInteractive('df-ee54a09a-0bd5-4091-8d61-341eb0969972')\"\n",
              "              title=\"Convert this dataframe to an interactive table.\"\n",
              "              style=\"display:none;\">\n",
              "        \n",
              "  <svg xmlns=\"http://www.w3.org/2000/svg\" height=\"24px\"viewBox=\"0 0 24 24\"\n",
              "       width=\"24px\">\n",
              "    <path d=\"M0 0h24v24H0V0z\" fill=\"none\"/>\n",
              "    <path d=\"M18.56 5.44l.94 2.06.94-2.06 2.06-.94-2.06-.94-.94-2.06-.94 2.06-2.06.94zm-11 1L8.5 8.5l.94-2.06 2.06-.94-2.06-.94L8.5 2.5l-.94 2.06-2.06.94zm10 10l.94 2.06.94-2.06 2.06-.94-2.06-.94-.94-2.06-.94 2.06-2.06.94z\"/><path d=\"M17.41 7.96l-1.37-1.37c-.4-.4-.92-.59-1.43-.59-.52 0-1.04.2-1.43.59L10.3 9.45l-7.72 7.72c-.78.78-.78 2.05 0 2.83L4 21.41c.39.39.9.59 1.41.59.51 0 1.02-.2 1.41-.59l7.78-7.78 2.81-2.81c.8-.78.8-2.07 0-2.86zM5.41 20L4 18.59l7.72-7.72 1.47 1.35L5.41 20z\"/>\n",
              "  </svg>\n",
              "      </button>\n",
              "      \n",
              "  <style>\n",
              "    .colab-df-container {\n",
              "      display:flex;\n",
              "      flex-wrap:wrap;\n",
              "      gap: 12px;\n",
              "    }\n",
              "\n",
              "    .colab-df-convert {\n",
              "      background-color: #E8F0FE;\n",
              "      border: none;\n",
              "      border-radius: 50%;\n",
              "      cursor: pointer;\n",
              "      display: none;\n",
              "      fill: #1967D2;\n",
              "      height: 32px;\n",
              "      padding: 0 0 0 0;\n",
              "      width: 32px;\n",
              "    }\n",
              "\n",
              "    .colab-df-convert:hover {\n",
              "      background-color: #E2EBFA;\n",
              "      box-shadow: 0px 1px 2px rgba(60, 64, 67, 0.3), 0px 1px 3px 1px rgba(60, 64, 67, 0.15);\n",
              "      fill: #174EA6;\n",
              "    }\n",
              "\n",
              "    [theme=dark] .colab-df-convert {\n",
              "      background-color: #3B4455;\n",
              "      fill: #D2E3FC;\n",
              "    }\n",
              "\n",
              "    [theme=dark] .colab-df-convert:hover {\n",
              "      background-color: #434B5C;\n",
              "      box-shadow: 0px 1px 3px 1px rgba(0, 0, 0, 0.15);\n",
              "      filter: drop-shadow(0px 1px 2px rgba(0, 0, 0, 0.3));\n",
              "      fill: #FFFFFF;\n",
              "    }\n",
              "  </style>\n",
              "\n",
              "      <script>\n",
              "        const buttonEl =\n",
              "          document.querySelector('#df-ee54a09a-0bd5-4091-8d61-341eb0969972 button.colab-df-convert');\n",
              "        buttonEl.style.display =\n",
              "          google.colab.kernel.accessAllowed ? 'block' : 'none';\n",
              "\n",
              "        async function convertToInteractive(key) {\n",
              "          const element = document.querySelector('#df-ee54a09a-0bd5-4091-8d61-341eb0969972');\n",
              "          const dataTable =\n",
              "            await google.colab.kernel.invokeFunction('convertToInteractive',\n",
              "                                                     [key], {});\n",
              "          if (!dataTable) return;\n",
              "\n",
              "          const docLinkHtml = 'Like what you see? Visit the ' +\n",
              "            '<a target=\"_blank\" href=https://colab.research.google.com/notebooks/data_table.ipynb>data table notebook</a>'\n",
              "            + ' to learn more about interactive tables.';\n",
              "          element.innerHTML = '';\n",
              "          dataTable['output_type'] = 'display_data';\n",
              "          await google.colab.output.renderOutput(dataTable, element);\n",
              "          const docLink = document.createElement('div');\n",
              "          docLink.innerHTML = docLinkHtml;\n",
              "          element.appendChild(docLink);\n",
              "        }\n",
              "      </script>\n",
              "    </div>\n",
              "  </div>\n",
              "  "
            ]
          },
          "metadata": {},
          "execution_count": 23
        }
      ],
      "source": [
        "subjects"
      ]
    },
    {
      "cell_type": "code",
      "execution_count": 24,
      "metadata": {
        "colab": {
          "base_uri": "https://localhost:8080/",
          "height": 542
        },
        "id": "KzUU2dQrPnHV",
        "outputId": "65e540d7-03a2-40f0-8751-eee27a0e1416"
      },
      "outputs": [
        {
          "output_type": "display_data",
          "data": {
            "text/html": [
              "<html>\n",
              "<head><meta charset=\"utf-8\" /></head>\n",
              "<body>\n",
              "    <div>            <script src=\"https://cdnjs.cloudflare.com/ajax/libs/mathjax/2.7.5/MathJax.js?config=TeX-AMS-MML_SVG\"></script><script type=\"text/javascript\">if (window.MathJax && window.MathJax.Hub && window.MathJax.Hub.Config) {window.MathJax.Hub.Config({SVG: {font: \"STIX-Web\"}});}</script>                <script type=\"text/javascript\">window.PlotlyConfig = {MathJaxConfig: 'local'};</script>\n",
              "        <script src=\"https://cdn.plot.ly/plotly-2.18.2.min.js\"></script>                <div id=\"40fd74fc-5804-49b9-bb9c-0548630abfa5\" class=\"plotly-graph-div\" style=\"height:525px; width:100%;\"></div>            <script type=\"text/javascript\">                                    window.PLOTLYENV=window.PLOTLYENV || {};                                    if (document.getElementById(\"40fd74fc-5804-49b9-bb9c-0548630abfa5\")) {                    Plotly.newPlot(                        \"40fd74fc-5804-49b9-bb9c-0548630abfa5\",                        [{\"alignmentgroup\":\"True\",\"hovertemplate\":\"subject=%{x}<br>count=%{y}<extra></extra>\",\"legendgroup\":\"Government News\",\"marker\":{\"color\":\"#636efa\",\"pattern\":{\"shape\":\"\"}},\"name\":\"Government News\",\"offsetgroup\":\"Government News\",\"orientation\":\"v\",\"showlegend\":true,\"textposition\":\"auto\",\"x\":[\"Government News\"],\"xaxis\":\"x\",\"y\":[1570],\"yaxis\":\"y\",\"type\":\"bar\"},{\"alignmentgroup\":\"True\",\"hovertemplate\":\"subject=%{x}<br>count=%{y}<extra></extra>\",\"legendgroup\":\"Middle-east\",\"marker\":{\"color\":\"#EF553B\",\"pattern\":{\"shape\":\"\"}},\"name\":\"Middle-east\",\"offsetgroup\":\"Middle-east\",\"orientation\":\"v\",\"showlegend\":true,\"textposition\":\"auto\",\"x\":[\"Middle-east\"],\"xaxis\":\"x\",\"y\":[778],\"yaxis\":\"y\",\"type\":\"bar\"},{\"alignmentgroup\":\"True\",\"hovertemplate\":\"subject=%{x}<br>count=%{y}<extra></extra>\",\"legendgroup\":\"News\",\"marker\":{\"color\":\"#00cc96\",\"pattern\":{\"shape\":\"\"}},\"name\":\"News\",\"offsetgroup\":\"News\",\"orientation\":\"v\",\"showlegend\":true,\"textposition\":\"auto\",\"x\":[\"News\"],\"xaxis\":\"x\",\"y\":[9050],\"yaxis\":\"y\",\"type\":\"bar\"},{\"alignmentgroup\":\"True\",\"hovertemplate\":\"subject=%{x}<br>count=%{y}<extra></extra>\",\"legendgroup\":\"US_News\",\"marker\":{\"color\":\"#ab63fa\",\"pattern\":{\"shape\":\"\"}},\"name\":\"US_News\",\"offsetgroup\":\"US_News\",\"orientation\":\"v\",\"showlegend\":true,\"textposition\":\"auto\",\"x\":[\"US_News\"],\"xaxis\":\"x\",\"y\":[783],\"yaxis\":\"y\",\"type\":\"bar\"},{\"alignmentgroup\":\"True\",\"hovertemplate\":\"subject=%{x}<br>count=%{y}<extra></extra>\",\"legendgroup\":\"left-news\",\"marker\":{\"color\":\"#FFA15A\",\"pattern\":{\"shape\":\"\"}},\"name\":\"left-news\",\"offsetgroup\":\"left-news\",\"orientation\":\"v\",\"showlegend\":true,\"textposition\":\"auto\",\"x\":[\"left-news\"],\"xaxis\":\"x\",\"y\":[4459],\"yaxis\":\"y\",\"type\":\"bar\"},{\"alignmentgroup\":\"True\",\"hovertemplate\":\"subject=%{x}<br>count=%{y}<extra></extra>\",\"legendgroup\":\"politics-news\",\"marker\":{\"color\":\"#19d3f3\",\"pattern\":{\"shape\":\"\"}},\"name\":\"politics-news\",\"offsetgroup\":\"politics-news\",\"orientation\":\"v\",\"showlegend\":true,\"textposition\":\"auto\",\"x\":[\"politics-news\"],\"xaxis\":\"x\",\"y\":[18113],\"yaxis\":\"y\",\"type\":\"bar\"},{\"alignmentgroup\":\"True\",\"hovertemplate\":\"subject=%{x}<br>count=%{y}<extra></extra>\",\"legendgroup\":\"worldnews\",\"marker\":{\"color\":\"#FF6692\",\"pattern\":{\"shape\":\"\"}},\"name\":\"worldnews\",\"offsetgroup\":\"worldnews\",\"orientation\":\"v\",\"showlegend\":true,\"textposition\":\"auto\",\"x\":[\"worldnews\"],\"xaxis\":\"x\",\"y\":[10145],\"yaxis\":\"y\",\"type\":\"bar\"}],                        {\"template\":{\"data\":{\"histogram2dcontour\":[{\"type\":\"histogram2dcontour\",\"colorbar\":{\"outlinewidth\":0,\"ticks\":\"\"},\"colorscale\":[[0.0,\"#0d0887\"],[0.1111111111111111,\"#46039f\"],[0.2222222222222222,\"#7201a8\"],[0.3333333333333333,\"#9c179e\"],[0.4444444444444444,\"#bd3786\"],[0.5555555555555556,\"#d8576b\"],[0.6666666666666666,\"#ed7953\"],[0.7777777777777778,\"#fb9f3a\"],[0.8888888888888888,\"#fdca26\"],[1.0,\"#f0f921\"]]}],\"choropleth\":[{\"type\":\"choropleth\",\"colorbar\":{\"outlinewidth\":0,\"ticks\":\"\"}}],\"histogram2d\":[{\"type\":\"histogram2d\",\"colorbar\":{\"outlinewidth\":0,\"ticks\":\"\"},\"colorscale\":[[0.0,\"#0d0887\"],[0.1111111111111111,\"#46039f\"],[0.2222222222222222,\"#7201a8\"],[0.3333333333333333,\"#9c179e\"],[0.4444444444444444,\"#bd3786\"],[0.5555555555555556,\"#d8576b\"],[0.6666666666666666,\"#ed7953\"],[0.7777777777777778,\"#fb9f3a\"],[0.8888888888888888,\"#fdca26\"],[1.0,\"#f0f921\"]]}],\"heatmap\":[{\"type\":\"heatmap\",\"colorbar\":{\"outlinewidth\":0,\"ticks\":\"\"},\"colorscale\":[[0.0,\"#0d0887\"],[0.1111111111111111,\"#46039f\"],[0.2222222222222222,\"#7201a8\"],[0.3333333333333333,\"#9c179e\"],[0.4444444444444444,\"#bd3786\"],[0.5555555555555556,\"#d8576b\"],[0.6666666666666666,\"#ed7953\"],[0.7777777777777778,\"#fb9f3a\"],[0.8888888888888888,\"#fdca26\"],[1.0,\"#f0f921\"]]}],\"heatmapgl\":[{\"type\":\"heatmapgl\",\"colorbar\":{\"outlinewidth\":0,\"ticks\":\"\"},\"colorscale\":[[0.0,\"#0d0887\"],[0.1111111111111111,\"#46039f\"],[0.2222222222222222,\"#7201a8\"],[0.3333333333333333,\"#9c179e\"],[0.4444444444444444,\"#bd3786\"],[0.5555555555555556,\"#d8576b\"],[0.6666666666666666,\"#ed7953\"],[0.7777777777777778,\"#fb9f3a\"],[0.8888888888888888,\"#fdca26\"],[1.0,\"#f0f921\"]]}],\"contourcarpet\":[{\"type\":\"contourcarpet\",\"colorbar\":{\"outlinewidth\":0,\"ticks\":\"\"}}],\"contour\":[{\"type\":\"contour\",\"colorbar\":{\"outlinewidth\":0,\"ticks\":\"\"},\"colorscale\":[[0.0,\"#0d0887\"],[0.1111111111111111,\"#46039f\"],[0.2222222222222222,\"#7201a8\"],[0.3333333333333333,\"#9c179e\"],[0.4444444444444444,\"#bd3786\"],[0.5555555555555556,\"#d8576b\"],[0.6666666666666666,\"#ed7953\"],[0.7777777777777778,\"#fb9f3a\"],[0.8888888888888888,\"#fdca26\"],[1.0,\"#f0f921\"]]}],\"surface\":[{\"type\":\"surface\",\"colorbar\":{\"outlinewidth\":0,\"ticks\":\"\"},\"colorscale\":[[0.0,\"#0d0887\"],[0.1111111111111111,\"#46039f\"],[0.2222222222222222,\"#7201a8\"],[0.3333333333333333,\"#9c179e\"],[0.4444444444444444,\"#bd3786\"],[0.5555555555555556,\"#d8576b\"],[0.6666666666666666,\"#ed7953\"],[0.7777777777777778,\"#fb9f3a\"],[0.8888888888888888,\"#fdca26\"],[1.0,\"#f0f921\"]]}],\"mesh3d\":[{\"type\":\"mesh3d\",\"colorbar\":{\"outlinewidth\":0,\"ticks\":\"\"}}],\"scatter\":[{\"fillpattern\":{\"fillmode\":\"overlay\",\"size\":10,\"solidity\":0.2},\"type\":\"scatter\"}],\"parcoords\":[{\"type\":\"parcoords\",\"line\":{\"colorbar\":{\"outlinewidth\":0,\"ticks\":\"\"}}}],\"scatterpolargl\":[{\"type\":\"scatterpolargl\",\"marker\":{\"colorbar\":{\"outlinewidth\":0,\"ticks\":\"\"}}}],\"bar\":[{\"error_x\":{\"color\":\"#2a3f5f\"},\"error_y\":{\"color\":\"#2a3f5f\"},\"marker\":{\"line\":{\"color\":\"#E5ECF6\",\"width\":0.5},\"pattern\":{\"fillmode\":\"overlay\",\"size\":10,\"solidity\":0.2}},\"type\":\"bar\"}],\"scattergeo\":[{\"type\":\"scattergeo\",\"marker\":{\"colorbar\":{\"outlinewidth\":0,\"ticks\":\"\"}}}],\"scatterpolar\":[{\"type\":\"scatterpolar\",\"marker\":{\"colorbar\":{\"outlinewidth\":0,\"ticks\":\"\"}}}],\"histogram\":[{\"marker\":{\"pattern\":{\"fillmode\":\"overlay\",\"size\":10,\"solidity\":0.2}},\"type\":\"histogram\"}],\"scattergl\":[{\"type\":\"scattergl\",\"marker\":{\"colorbar\":{\"outlinewidth\":0,\"ticks\":\"\"}}}],\"scatter3d\":[{\"type\":\"scatter3d\",\"line\":{\"colorbar\":{\"outlinewidth\":0,\"ticks\":\"\"}},\"marker\":{\"colorbar\":{\"outlinewidth\":0,\"ticks\":\"\"}}}],\"scattermapbox\":[{\"type\":\"scattermapbox\",\"marker\":{\"colorbar\":{\"outlinewidth\":0,\"ticks\":\"\"}}}],\"scatterternary\":[{\"type\":\"scatterternary\",\"marker\":{\"colorbar\":{\"outlinewidth\":0,\"ticks\":\"\"}}}],\"scattercarpet\":[{\"type\":\"scattercarpet\",\"marker\":{\"colorbar\":{\"outlinewidth\":0,\"ticks\":\"\"}}}],\"carpet\":[{\"aaxis\":{\"endlinecolor\":\"#2a3f5f\",\"gridcolor\":\"white\",\"linecolor\":\"white\",\"minorgridcolor\":\"white\",\"startlinecolor\":\"#2a3f5f\"},\"baxis\":{\"endlinecolor\":\"#2a3f5f\",\"gridcolor\":\"white\",\"linecolor\":\"white\",\"minorgridcolor\":\"white\",\"startlinecolor\":\"#2a3f5f\"},\"type\":\"carpet\"}],\"table\":[{\"cells\":{\"fill\":{\"color\":\"#EBF0F8\"},\"line\":{\"color\":\"white\"}},\"header\":{\"fill\":{\"color\":\"#C8D4E3\"},\"line\":{\"color\":\"white\"}},\"type\":\"table\"}],\"barpolar\":[{\"marker\":{\"line\":{\"color\":\"#E5ECF6\",\"width\":0.5},\"pattern\":{\"fillmode\":\"overlay\",\"size\":10,\"solidity\":0.2}},\"type\":\"barpolar\"}],\"pie\":[{\"automargin\":true,\"type\":\"pie\"}]},\"layout\":{\"autotypenumbers\":\"strict\",\"colorway\":[\"#636efa\",\"#EF553B\",\"#00cc96\",\"#ab63fa\",\"#FFA15A\",\"#19d3f3\",\"#FF6692\",\"#B6E880\",\"#FF97FF\",\"#FECB52\"],\"font\":{\"color\":\"#2a3f5f\"},\"hovermode\":\"closest\",\"hoverlabel\":{\"align\":\"left\"},\"paper_bgcolor\":\"white\",\"plot_bgcolor\":\"#E5ECF6\",\"polar\":{\"bgcolor\":\"#E5ECF6\",\"angularaxis\":{\"gridcolor\":\"white\",\"linecolor\":\"white\",\"ticks\":\"\"},\"radialaxis\":{\"gridcolor\":\"white\",\"linecolor\":\"white\",\"ticks\":\"\"}},\"ternary\":{\"bgcolor\":\"#E5ECF6\",\"aaxis\":{\"gridcolor\":\"white\",\"linecolor\":\"white\",\"ticks\":\"\"},\"baxis\":{\"gridcolor\":\"white\",\"linecolor\":\"white\",\"ticks\":\"\"},\"caxis\":{\"gridcolor\":\"white\",\"linecolor\":\"white\",\"ticks\":\"\"}},\"coloraxis\":{\"colorbar\":{\"outlinewidth\":0,\"ticks\":\"\"}},\"colorscale\":{\"sequential\":[[0.0,\"#0d0887\"],[0.1111111111111111,\"#46039f\"],[0.2222222222222222,\"#7201a8\"],[0.3333333333333333,\"#9c179e\"],[0.4444444444444444,\"#bd3786\"],[0.5555555555555556,\"#d8576b\"],[0.6666666666666666,\"#ed7953\"],[0.7777777777777778,\"#fb9f3a\"],[0.8888888888888888,\"#fdca26\"],[1.0,\"#f0f921\"]],\"sequentialminus\":[[0.0,\"#0d0887\"],[0.1111111111111111,\"#46039f\"],[0.2222222222222222,\"#7201a8\"],[0.3333333333333333,\"#9c179e\"],[0.4444444444444444,\"#bd3786\"],[0.5555555555555556,\"#d8576b\"],[0.6666666666666666,\"#ed7953\"],[0.7777777777777778,\"#fb9f3a\"],[0.8888888888888888,\"#fdca26\"],[1.0,\"#f0f921\"]],\"diverging\":[[0,\"#8e0152\"],[0.1,\"#c51b7d\"],[0.2,\"#de77ae\"],[0.3,\"#f1b6da\"],[0.4,\"#fde0ef\"],[0.5,\"#f7f7f7\"],[0.6,\"#e6f5d0\"],[0.7,\"#b8e186\"],[0.8,\"#7fbc41\"],[0.9,\"#4d9221\"],[1,\"#276419\"]]},\"xaxis\":{\"gridcolor\":\"white\",\"linecolor\":\"white\",\"ticks\":\"\",\"title\":{\"standoff\":15},\"zerolinecolor\":\"white\",\"automargin\":true,\"zerolinewidth\":2},\"yaxis\":{\"gridcolor\":\"white\",\"linecolor\":\"white\",\"ticks\":\"\",\"title\":{\"standoff\":15},\"zerolinecolor\":\"white\",\"automargin\":true,\"zerolinewidth\":2},\"scene\":{\"xaxis\":{\"backgroundcolor\":\"#E5ECF6\",\"gridcolor\":\"white\",\"linecolor\":\"white\",\"showbackground\":true,\"ticks\":\"\",\"zerolinecolor\":\"white\",\"gridwidth\":2},\"yaxis\":{\"backgroundcolor\":\"#E5ECF6\",\"gridcolor\":\"white\",\"linecolor\":\"white\",\"showbackground\":true,\"ticks\":\"\",\"zerolinecolor\":\"white\",\"gridwidth\":2},\"zaxis\":{\"backgroundcolor\":\"#E5ECF6\",\"gridcolor\":\"white\",\"linecolor\":\"white\",\"showbackground\":true,\"ticks\":\"\",\"zerolinecolor\":\"white\",\"gridwidth\":2}},\"shapedefaults\":{\"line\":{\"color\":\"#2a3f5f\"}},\"annotationdefaults\":{\"arrowcolor\":\"#2a3f5f\",\"arrowhead\":0,\"arrowwidth\":1},\"geo\":{\"bgcolor\":\"white\",\"landcolor\":\"#E5ECF6\",\"subunitcolor\":\"white\",\"showland\":true,\"showlakes\":true,\"lakecolor\":\"white\"},\"title\":{\"x\":0.05},\"mapbox\":{\"style\":\"light\"}}},\"xaxis\":{\"anchor\":\"y\",\"domain\":[0.0,1.0],\"title\":{\"text\":\"subject\"},\"categoryorder\":\"array\",\"categoryarray\":[\"Government News\",\"Middle-east\",\"News\",\"US_News\",\"left-news\",\"politics-news\",\"worldnews\"]},\"yaxis\":{\"anchor\":\"x\",\"domain\":[0.0,1.0],\"title\":{\"text\":\"count\"}},\"legend\":{\"title\":{\"text\":\"subject\"},\"tracegroupgap\":0},\"margin\":{\"t\":60},\"barmode\":\"relative\"},                        {\"responsive\": true}                    ).then(function(){\n",
              "                            \n",
              "var gd = document.getElementById('40fd74fc-5804-49b9-bb9c-0548630abfa5');\n",
              "var x = new MutationObserver(function (mutations, observer) {{\n",
              "        var display = window.getComputedStyle(gd).display;\n",
              "        if (!display || display === 'none') {{\n",
              "            console.log([gd, 'removed!']);\n",
              "            Plotly.purge(gd);\n",
              "            observer.disconnect();\n",
              "        }}\n",
              "}});\n",
              "\n",
              "// Listen for the removal of the full notebook cells\n",
              "var notebookContainer = gd.closest('#notebook-container');\n",
              "if (notebookContainer) {{\n",
              "    x.observe(notebookContainer, {childList: true});\n",
              "}}\n",
              "\n",
              "// Listen for the clearing of the current output cell\n",
              "var outputEl = gd.closest('.output');\n",
              "if (outputEl) {{\n",
              "    x.observe(outputEl, {childList: true});\n",
              "}}\n",
              "\n",
              "                        })                };                            </script>        </div>\n",
              "</body>\n",
              "</html>"
            ]
          },
          "metadata": {}
        }
      ],
      "source": [
        "fig1 = px.bar(subjects, x='subject', y='count', color='subject')\n",
        "fig1.show()"
      ]
    },
    {
      "cell_type": "code",
      "execution_count": 25,
      "metadata": {
        "id": "Z4jRNQ_EaOt0"
      },
      "outputs": [],
      "source": [
        "import dateutil.parser\n",
        "\n",
        "def convert_year(data):\n",
        "  try:\n",
        "    return dateutil.parser.parse(data).strftime(\"%Y-%m\")\n",
        "  except:\n",
        "    pass"
      ]
    },
    {
      "cell_type": "code",
      "execution_count": 26,
      "metadata": {
        "id": "MO7cqBPXeRZW"
      },
      "outputs": [],
      "source": [
        "real_df['dates'] = real_df['date'].apply(convert_year)\n",
        "fake_df['dates'] = real_df['date'].apply(convert_year)"
      ]
    },
    {
      "cell_type": "code",
      "execution_count": 27,
      "metadata": {
        "id": "uF_kIlhadS3-"
      },
      "outputs": [],
      "source": [
        "def count_years(data):\n",
        "  return data['dates'].count()"
      ]
    },
    {
      "cell_type": "code",
      "execution_count": 28,
      "metadata": {
        "id": "HfXgfIvYfD3I"
      },
      "outputs": [],
      "source": [
        "fake_news_years = fake_df.groupby('dates').apply(count_years).reset_index(name='count')"
      ]
    },
    {
      "cell_type": "code",
      "execution_count": 29,
      "metadata": {
        "colab": {
          "base_uri": "https://localhost:8080/",
          "height": 542
        },
        "id": "ek0hal63dicC",
        "outputId": "c71b8946-5670-42e9-d618-10bcc8abbb76"
      },
      "outputs": [
        {
          "output_type": "display_data",
          "data": {
            "text/html": [
              "<html>\n",
              "<head><meta charset=\"utf-8\" /></head>\n",
              "<body>\n",
              "    <div>            <script src=\"https://cdnjs.cloudflare.com/ajax/libs/mathjax/2.7.5/MathJax.js?config=TeX-AMS-MML_SVG\"></script><script type=\"text/javascript\">if (window.MathJax && window.MathJax.Hub && window.MathJax.Hub.Config) {window.MathJax.Hub.Config({SVG: {font: \"STIX-Web\"}});}</script>                <script type=\"text/javascript\">window.PlotlyConfig = {MathJaxConfig: 'local'};</script>\n",
              "        <script src=\"https://cdn.plot.ly/plotly-2.18.2.min.js\"></script>                <div id=\"01c36b0c-a27b-42b2-9820-efe6a3075d90\" class=\"plotly-graph-div\" style=\"height:525px; width:100%;\"></div>            <script type=\"text/javascript\">                                    window.PLOTLYENV=window.PLOTLYENV || {};                                    if (document.getElementById(\"01c36b0c-a27b-42b2-9820-efe6a3075d90\")) {                    Plotly.newPlot(                        \"01c36b0c-a27b-42b2-9820-efe6a3075d90\",                        [{\"hovertemplate\":\"dates=%{x|%B, %Y}<br>count=%{y}<extra></extra>\",\"legendgroup\":\"\",\"line\":{\"color\":\"#636efa\",\"dash\":\"solid\"},\"marker\":{\"symbol\":\"circle\"},\"mode\":\"lines\",\"name\":\"\",\"orientation\":\"v\",\"showlegend\":false,\"x\":[\"2016-01\",\"2016-02\",\"2016-03\",\"2016-04\",\"2016-05\",\"2016-06\",\"2016-07\",\"2016-08\",\"2016-09\",\"2016-10\",\"2016-11\",\"2016-12\",\"2017-01\",\"2017-02\",\"2017-03\",\"2017-04\",\"2017-05\",\"2017-06\",\"2017-07\",\"2017-08\",\"2017-09\",\"2017-10\",\"2017-11\",\"2017-12\"],\"xaxis\":\"x\",\"y\":[246,432,490,383,394,419,338,265,351,336,637,425,750,591,684,543,505,556,540,657,3074,3172,3096,2533],\"yaxis\":\"y\",\"type\":\"scatter\"}],                        {\"template\":{\"data\":{\"histogram2dcontour\":[{\"type\":\"histogram2dcontour\",\"colorbar\":{\"outlinewidth\":0,\"ticks\":\"\"},\"colorscale\":[[0.0,\"#0d0887\"],[0.1111111111111111,\"#46039f\"],[0.2222222222222222,\"#7201a8\"],[0.3333333333333333,\"#9c179e\"],[0.4444444444444444,\"#bd3786\"],[0.5555555555555556,\"#d8576b\"],[0.6666666666666666,\"#ed7953\"],[0.7777777777777778,\"#fb9f3a\"],[0.8888888888888888,\"#fdca26\"],[1.0,\"#f0f921\"]]}],\"choropleth\":[{\"type\":\"choropleth\",\"colorbar\":{\"outlinewidth\":0,\"ticks\":\"\"}}],\"histogram2d\":[{\"type\":\"histogram2d\",\"colorbar\":{\"outlinewidth\":0,\"ticks\":\"\"},\"colorscale\":[[0.0,\"#0d0887\"],[0.1111111111111111,\"#46039f\"],[0.2222222222222222,\"#7201a8\"],[0.3333333333333333,\"#9c179e\"],[0.4444444444444444,\"#bd3786\"],[0.5555555555555556,\"#d8576b\"],[0.6666666666666666,\"#ed7953\"],[0.7777777777777778,\"#fb9f3a\"],[0.8888888888888888,\"#fdca26\"],[1.0,\"#f0f921\"]]}],\"heatmap\":[{\"type\":\"heatmap\",\"colorbar\":{\"outlinewidth\":0,\"ticks\":\"\"},\"colorscale\":[[0.0,\"#0d0887\"],[0.1111111111111111,\"#46039f\"],[0.2222222222222222,\"#7201a8\"],[0.3333333333333333,\"#9c179e\"],[0.4444444444444444,\"#bd3786\"],[0.5555555555555556,\"#d8576b\"],[0.6666666666666666,\"#ed7953\"],[0.7777777777777778,\"#fb9f3a\"],[0.8888888888888888,\"#fdca26\"],[1.0,\"#f0f921\"]]}],\"heatmapgl\":[{\"type\":\"heatmapgl\",\"colorbar\":{\"outlinewidth\":0,\"ticks\":\"\"},\"colorscale\":[[0.0,\"#0d0887\"],[0.1111111111111111,\"#46039f\"],[0.2222222222222222,\"#7201a8\"],[0.3333333333333333,\"#9c179e\"],[0.4444444444444444,\"#bd3786\"],[0.5555555555555556,\"#d8576b\"],[0.6666666666666666,\"#ed7953\"],[0.7777777777777778,\"#fb9f3a\"],[0.8888888888888888,\"#fdca26\"],[1.0,\"#f0f921\"]]}],\"contourcarpet\":[{\"type\":\"contourcarpet\",\"colorbar\":{\"outlinewidth\":0,\"ticks\":\"\"}}],\"contour\":[{\"type\":\"contour\",\"colorbar\":{\"outlinewidth\":0,\"ticks\":\"\"},\"colorscale\":[[0.0,\"#0d0887\"],[0.1111111111111111,\"#46039f\"],[0.2222222222222222,\"#7201a8\"],[0.3333333333333333,\"#9c179e\"],[0.4444444444444444,\"#bd3786\"],[0.5555555555555556,\"#d8576b\"],[0.6666666666666666,\"#ed7953\"],[0.7777777777777778,\"#fb9f3a\"],[0.8888888888888888,\"#fdca26\"],[1.0,\"#f0f921\"]]}],\"surface\":[{\"type\":\"surface\",\"colorbar\":{\"outlinewidth\":0,\"ticks\":\"\"},\"colorscale\":[[0.0,\"#0d0887\"],[0.1111111111111111,\"#46039f\"],[0.2222222222222222,\"#7201a8\"],[0.3333333333333333,\"#9c179e\"],[0.4444444444444444,\"#bd3786\"],[0.5555555555555556,\"#d8576b\"],[0.6666666666666666,\"#ed7953\"],[0.7777777777777778,\"#fb9f3a\"],[0.8888888888888888,\"#fdca26\"],[1.0,\"#f0f921\"]]}],\"mesh3d\":[{\"type\":\"mesh3d\",\"colorbar\":{\"outlinewidth\":0,\"ticks\":\"\"}}],\"scatter\":[{\"fillpattern\":{\"fillmode\":\"overlay\",\"size\":10,\"solidity\":0.2},\"type\":\"scatter\"}],\"parcoords\":[{\"type\":\"parcoords\",\"line\":{\"colorbar\":{\"outlinewidth\":0,\"ticks\":\"\"}}}],\"scatterpolargl\":[{\"type\":\"scatterpolargl\",\"marker\":{\"colorbar\":{\"outlinewidth\":0,\"ticks\":\"\"}}}],\"bar\":[{\"error_x\":{\"color\":\"#2a3f5f\"},\"error_y\":{\"color\":\"#2a3f5f\"},\"marker\":{\"line\":{\"color\":\"#E5ECF6\",\"width\":0.5},\"pattern\":{\"fillmode\":\"overlay\",\"size\":10,\"solidity\":0.2}},\"type\":\"bar\"}],\"scattergeo\":[{\"type\":\"scattergeo\",\"marker\":{\"colorbar\":{\"outlinewidth\":0,\"ticks\":\"\"}}}],\"scatterpolar\":[{\"type\":\"scatterpolar\",\"marker\":{\"colorbar\":{\"outlinewidth\":0,\"ticks\":\"\"}}}],\"histogram\":[{\"marker\":{\"pattern\":{\"fillmode\":\"overlay\",\"size\":10,\"solidity\":0.2}},\"type\":\"histogram\"}],\"scattergl\":[{\"type\":\"scattergl\",\"marker\":{\"colorbar\":{\"outlinewidth\":0,\"ticks\":\"\"}}}],\"scatter3d\":[{\"type\":\"scatter3d\",\"line\":{\"colorbar\":{\"outlinewidth\":0,\"ticks\":\"\"}},\"marker\":{\"colorbar\":{\"outlinewidth\":0,\"ticks\":\"\"}}}],\"scattermapbox\":[{\"type\":\"scattermapbox\",\"marker\":{\"colorbar\":{\"outlinewidth\":0,\"ticks\":\"\"}}}],\"scatterternary\":[{\"type\":\"scatterternary\",\"marker\":{\"colorbar\":{\"outlinewidth\":0,\"ticks\":\"\"}}}],\"scattercarpet\":[{\"type\":\"scattercarpet\",\"marker\":{\"colorbar\":{\"outlinewidth\":0,\"ticks\":\"\"}}}],\"carpet\":[{\"aaxis\":{\"endlinecolor\":\"#2a3f5f\",\"gridcolor\":\"white\",\"linecolor\":\"white\",\"minorgridcolor\":\"white\",\"startlinecolor\":\"#2a3f5f\"},\"baxis\":{\"endlinecolor\":\"#2a3f5f\",\"gridcolor\":\"white\",\"linecolor\":\"white\",\"minorgridcolor\":\"white\",\"startlinecolor\":\"#2a3f5f\"},\"type\":\"carpet\"}],\"table\":[{\"cells\":{\"fill\":{\"color\":\"#EBF0F8\"},\"line\":{\"color\":\"white\"}},\"header\":{\"fill\":{\"color\":\"#C8D4E3\"},\"line\":{\"color\":\"white\"}},\"type\":\"table\"}],\"barpolar\":[{\"marker\":{\"line\":{\"color\":\"#E5ECF6\",\"width\":0.5},\"pattern\":{\"fillmode\":\"overlay\",\"size\":10,\"solidity\":0.2}},\"type\":\"barpolar\"}],\"pie\":[{\"automargin\":true,\"type\":\"pie\"}]},\"layout\":{\"autotypenumbers\":\"strict\",\"colorway\":[\"#636efa\",\"#EF553B\",\"#00cc96\",\"#ab63fa\",\"#FFA15A\",\"#19d3f3\",\"#FF6692\",\"#B6E880\",\"#FF97FF\",\"#FECB52\"],\"font\":{\"color\":\"#2a3f5f\"},\"hovermode\":\"closest\",\"hoverlabel\":{\"align\":\"left\"},\"paper_bgcolor\":\"white\",\"plot_bgcolor\":\"#E5ECF6\",\"polar\":{\"bgcolor\":\"#E5ECF6\",\"angularaxis\":{\"gridcolor\":\"white\",\"linecolor\":\"white\",\"ticks\":\"\"},\"radialaxis\":{\"gridcolor\":\"white\",\"linecolor\":\"white\",\"ticks\":\"\"}},\"ternary\":{\"bgcolor\":\"#E5ECF6\",\"aaxis\":{\"gridcolor\":\"white\",\"linecolor\":\"white\",\"ticks\":\"\"},\"baxis\":{\"gridcolor\":\"white\",\"linecolor\":\"white\",\"ticks\":\"\"},\"caxis\":{\"gridcolor\":\"white\",\"linecolor\":\"white\",\"ticks\":\"\"}},\"coloraxis\":{\"colorbar\":{\"outlinewidth\":0,\"ticks\":\"\"}},\"colorscale\":{\"sequential\":[[0.0,\"#0d0887\"],[0.1111111111111111,\"#46039f\"],[0.2222222222222222,\"#7201a8\"],[0.3333333333333333,\"#9c179e\"],[0.4444444444444444,\"#bd3786\"],[0.5555555555555556,\"#d8576b\"],[0.6666666666666666,\"#ed7953\"],[0.7777777777777778,\"#fb9f3a\"],[0.8888888888888888,\"#fdca26\"],[1.0,\"#f0f921\"]],\"sequentialminus\":[[0.0,\"#0d0887\"],[0.1111111111111111,\"#46039f\"],[0.2222222222222222,\"#7201a8\"],[0.3333333333333333,\"#9c179e\"],[0.4444444444444444,\"#bd3786\"],[0.5555555555555556,\"#d8576b\"],[0.6666666666666666,\"#ed7953\"],[0.7777777777777778,\"#fb9f3a\"],[0.8888888888888888,\"#fdca26\"],[1.0,\"#f0f921\"]],\"diverging\":[[0,\"#8e0152\"],[0.1,\"#c51b7d\"],[0.2,\"#de77ae\"],[0.3,\"#f1b6da\"],[0.4,\"#fde0ef\"],[0.5,\"#f7f7f7\"],[0.6,\"#e6f5d0\"],[0.7,\"#b8e186\"],[0.8,\"#7fbc41\"],[0.9,\"#4d9221\"],[1,\"#276419\"]]},\"xaxis\":{\"gridcolor\":\"white\",\"linecolor\":\"white\",\"ticks\":\"\",\"title\":{\"standoff\":15},\"zerolinecolor\":\"white\",\"automargin\":true,\"zerolinewidth\":2},\"yaxis\":{\"gridcolor\":\"white\",\"linecolor\":\"white\",\"ticks\":\"\",\"title\":{\"standoff\":15},\"zerolinecolor\":\"white\",\"automargin\":true,\"zerolinewidth\":2},\"scene\":{\"xaxis\":{\"backgroundcolor\":\"#E5ECF6\",\"gridcolor\":\"white\",\"linecolor\":\"white\",\"showbackground\":true,\"ticks\":\"\",\"zerolinecolor\":\"white\",\"gridwidth\":2},\"yaxis\":{\"backgroundcolor\":\"#E5ECF6\",\"gridcolor\":\"white\",\"linecolor\":\"white\",\"showbackground\":true,\"ticks\":\"\",\"zerolinecolor\":\"white\",\"gridwidth\":2},\"zaxis\":{\"backgroundcolor\":\"#E5ECF6\",\"gridcolor\":\"white\",\"linecolor\":\"white\",\"showbackground\":true,\"ticks\":\"\",\"zerolinecolor\":\"white\",\"gridwidth\":2}},\"shapedefaults\":{\"line\":{\"color\":\"#2a3f5f\"}},\"annotationdefaults\":{\"arrowcolor\":\"#2a3f5f\",\"arrowhead\":0,\"arrowwidth\":1},\"geo\":{\"bgcolor\":\"white\",\"landcolor\":\"#E5ECF6\",\"subunitcolor\":\"white\",\"showland\":true,\"showlakes\":true,\"lakecolor\":\"white\"},\"title\":{\"x\":0.05},\"mapbox\":{\"style\":\"light\"}}},\"xaxis\":{\"anchor\":\"y\",\"domain\":[0.0,1.0],\"title\":{\"text\":\"dates\"}},\"yaxis\":{\"anchor\":\"x\",\"domain\":[0.0,1.0],\"title\":{\"text\":\"count\"}},\"legend\":{\"tracegroupgap\":0},\"title\":{\"text\":\"Fake news Over time\"}},                        {\"responsive\": true}                    ).then(function(){\n",
              "                            \n",
              "var gd = document.getElementById('01c36b0c-a27b-42b2-9820-efe6a3075d90');\n",
              "var x = new MutationObserver(function (mutations, observer) {{\n",
              "        var display = window.getComputedStyle(gd).display;\n",
              "        if (!display || display === 'none') {{\n",
              "            console.log([gd, 'removed!']);\n",
              "            Plotly.purge(gd);\n",
              "            observer.disconnect();\n",
              "        }}\n",
              "}});\n",
              "\n",
              "// Listen for the removal of the full notebook cells\n",
              "var notebookContainer = gd.closest('#notebook-container');\n",
              "if (notebookContainer) {{\n",
              "    x.observe(notebookContainer, {childList: true});\n",
              "}}\n",
              "\n",
              "// Listen for the clearing of the current output cell\n",
              "var outputEl = gd.closest('.output');\n",
              "if (outputEl) {{\n",
              "    x.observe(outputEl, {childList: true});\n",
              "}}\n",
              "\n",
              "                        })                };                            </script>        </div>\n",
              "</body>\n",
              "</html>"
            ]
          },
          "metadata": {}
        }
      ],
      "source": [
        "fig3 = px.line(fake_news_years, x='dates', y='count', \n",
        "               hover_data={\"dates\": \"|%B, %Y\"}, \n",
        "               title='Fake news Over time')\n",
        "\n",
        "fig3.show()"
      ]
    },
    {
      "cell_type": "code",
      "execution_count": 30,
      "metadata": {
        "id": "YWlIA58sP3_1"
      },
      "outputs": [],
      "source": [
        "def count_target(data):\n",
        "  return data['target'].count()"
      ]
    },
    {
      "cell_type": "code",
      "execution_count": 31,
      "metadata": {
        "id": "QY5SAQPORTI1"
      },
      "outputs": [],
      "source": [
        "targets = df.groupby('target').apply(count_target).reset_index(name='count')"
      ]
    },
    {
      "cell_type": "code",
      "execution_count": 32,
      "metadata": {
        "colab": {
          "base_uri": "https://localhost:8080/",
          "height": 112
        },
        "id": "vVXPRB3-Rh4p",
        "outputId": "cbc36243-6941-4e20-8027-35f6fd4e7dc1"
      },
      "outputs": [
        {
          "output_type": "execute_result",
          "data": {
            "text/plain": [
              "   target  count\n",
              "0       0  23481\n",
              "1       1  21417"
            ],
            "text/html": [
              "\n",
              "  <div id=\"df-be1127b9-45ac-40ad-b9c0-cd4a5da8f5bb\">\n",
              "    <div class=\"colab-df-container\">\n",
              "      <div>\n",
              "<style scoped>\n",
              "    .dataframe tbody tr th:only-of-type {\n",
              "        vertical-align: middle;\n",
              "    }\n",
              "\n",
              "    .dataframe tbody tr th {\n",
              "        vertical-align: top;\n",
              "    }\n",
              "\n",
              "    .dataframe thead th {\n",
              "        text-align: right;\n",
              "    }\n",
              "</style>\n",
              "<table border=\"1\" class=\"dataframe\">\n",
              "  <thead>\n",
              "    <tr style=\"text-align: right;\">\n",
              "      <th></th>\n",
              "      <th>target</th>\n",
              "      <th>count</th>\n",
              "    </tr>\n",
              "  </thead>\n",
              "  <tbody>\n",
              "    <tr>\n",
              "      <th>0</th>\n",
              "      <td>0</td>\n",
              "      <td>23481</td>\n",
              "    </tr>\n",
              "    <tr>\n",
              "      <th>1</th>\n",
              "      <td>1</td>\n",
              "      <td>21417</td>\n",
              "    </tr>\n",
              "  </tbody>\n",
              "</table>\n",
              "</div>\n",
              "      <button class=\"colab-df-convert\" onclick=\"convertToInteractive('df-be1127b9-45ac-40ad-b9c0-cd4a5da8f5bb')\"\n",
              "              title=\"Convert this dataframe to an interactive table.\"\n",
              "              style=\"display:none;\">\n",
              "        \n",
              "  <svg xmlns=\"http://www.w3.org/2000/svg\" height=\"24px\"viewBox=\"0 0 24 24\"\n",
              "       width=\"24px\">\n",
              "    <path d=\"M0 0h24v24H0V0z\" fill=\"none\"/>\n",
              "    <path d=\"M18.56 5.44l.94 2.06.94-2.06 2.06-.94-2.06-.94-.94-2.06-.94 2.06-2.06.94zm-11 1L8.5 8.5l.94-2.06 2.06-.94-2.06-.94L8.5 2.5l-.94 2.06-2.06.94zm10 10l.94 2.06.94-2.06 2.06-.94-2.06-.94-.94-2.06-.94 2.06-2.06.94z\"/><path d=\"M17.41 7.96l-1.37-1.37c-.4-.4-.92-.59-1.43-.59-.52 0-1.04.2-1.43.59L10.3 9.45l-7.72 7.72c-.78.78-.78 2.05 0 2.83L4 21.41c.39.39.9.59 1.41.59.51 0 1.02-.2 1.41-.59l7.78-7.78 2.81-2.81c.8-.78.8-2.07 0-2.86zM5.41 20L4 18.59l7.72-7.72 1.47 1.35L5.41 20z\"/>\n",
              "  </svg>\n",
              "      </button>\n",
              "      \n",
              "  <style>\n",
              "    .colab-df-container {\n",
              "      display:flex;\n",
              "      flex-wrap:wrap;\n",
              "      gap: 12px;\n",
              "    }\n",
              "\n",
              "    .colab-df-convert {\n",
              "      background-color: #E8F0FE;\n",
              "      border: none;\n",
              "      border-radius: 50%;\n",
              "      cursor: pointer;\n",
              "      display: none;\n",
              "      fill: #1967D2;\n",
              "      height: 32px;\n",
              "      padding: 0 0 0 0;\n",
              "      width: 32px;\n",
              "    }\n",
              "\n",
              "    .colab-df-convert:hover {\n",
              "      background-color: #E2EBFA;\n",
              "      box-shadow: 0px 1px 2px rgba(60, 64, 67, 0.3), 0px 1px 3px 1px rgba(60, 64, 67, 0.15);\n",
              "      fill: #174EA6;\n",
              "    }\n",
              "\n",
              "    [theme=dark] .colab-df-convert {\n",
              "      background-color: #3B4455;\n",
              "      fill: #D2E3FC;\n",
              "    }\n",
              "\n",
              "    [theme=dark] .colab-df-convert:hover {\n",
              "      background-color: #434B5C;\n",
              "      box-shadow: 0px 1px 3px 1px rgba(0, 0, 0, 0.15);\n",
              "      filter: drop-shadow(0px 1px 2px rgba(0, 0, 0, 0.3));\n",
              "      fill: #FFFFFF;\n",
              "    }\n",
              "  </style>\n",
              "\n",
              "      <script>\n",
              "        const buttonEl =\n",
              "          document.querySelector('#df-be1127b9-45ac-40ad-b9c0-cd4a5da8f5bb button.colab-df-convert');\n",
              "        buttonEl.style.display =\n",
              "          google.colab.kernel.accessAllowed ? 'block' : 'none';\n",
              "\n",
              "        async function convertToInteractive(key) {\n",
              "          const element = document.querySelector('#df-be1127b9-45ac-40ad-b9c0-cd4a5da8f5bb');\n",
              "          const dataTable =\n",
              "            await google.colab.kernel.invokeFunction('convertToInteractive',\n",
              "                                                     [key], {});\n",
              "          if (!dataTable) return;\n",
              "\n",
              "          const docLinkHtml = 'Like what you see? Visit the ' +\n",
              "            '<a target=\"_blank\" href=https://colab.research.google.com/notebooks/data_table.ipynb>data table notebook</a>'\n",
              "            + ' to learn more about interactive tables.';\n",
              "          element.innerHTML = '';\n",
              "          dataTable['output_type'] = 'display_data';\n",
              "          await google.colab.output.renderOutput(dataTable, element);\n",
              "          const docLink = document.createElement('div');\n",
              "          docLink.innerHTML = docLinkHtml;\n",
              "          element.appendChild(docLink);\n",
              "        }\n",
              "      </script>\n",
              "    </div>\n",
              "  </div>\n",
              "  "
            ]
          },
          "metadata": {},
          "execution_count": 32
        }
      ],
      "source": [
        "targets"
      ]
    },
    {
      "cell_type": "code",
      "execution_count": 33,
      "metadata": {
        "colab": {
          "base_uri": "https://localhost:8080/",
          "height": 542
        },
        "id": "_SUJGpreRi48",
        "outputId": "5aee861b-7472-4503-bade-3aea543a8dbf"
      },
      "outputs": [
        {
          "output_type": "display_data",
          "data": {
            "text/html": [
              "<html>\n",
              "<head><meta charset=\"utf-8\" /></head>\n",
              "<body>\n",
              "    <div>            <script src=\"https://cdnjs.cloudflare.com/ajax/libs/mathjax/2.7.5/MathJax.js?config=TeX-AMS-MML_SVG\"></script><script type=\"text/javascript\">if (window.MathJax && window.MathJax.Hub && window.MathJax.Hub.Config) {window.MathJax.Hub.Config({SVG: {font: \"STIX-Web\"}});}</script>                <script type=\"text/javascript\">window.PlotlyConfig = {MathJaxConfig: 'local'};</script>\n",
              "        <script src=\"https://cdn.plot.ly/plotly-2.18.2.min.js\"></script>                <div id=\"5ad428ea-9c9c-4aaf-8691-cdd5582432fd\" class=\"plotly-graph-div\" style=\"height:525px; width:100%;\"></div>            <script type=\"text/javascript\">                                    window.PLOTLYENV=window.PLOTLYENV || {};                                    if (document.getElementById(\"5ad428ea-9c9c-4aaf-8691-cdd5582432fd\")) {                    Plotly.newPlot(                        \"5ad428ea-9c9c-4aaf-8691-cdd5582432fd\",                        [{\"alignmentgroup\":\"True\",\"hovertemplate\":\"target=%{marker.color}<br>count=%{y}<extra></extra>\",\"legendgroup\":\"\",\"marker\":{\"color\":[0,1],\"coloraxis\":\"coloraxis\",\"pattern\":{\"shape\":\"\"}},\"name\":\"\",\"offsetgroup\":\"\",\"orientation\":\"v\",\"showlegend\":false,\"textposition\":\"auto\",\"x\":[0,1],\"xaxis\":\"x\",\"y\":[23481,21417],\"yaxis\":\"y\",\"type\":\"bar\"}],                        {\"template\":{\"data\":{\"histogram2dcontour\":[{\"type\":\"histogram2dcontour\",\"colorbar\":{\"outlinewidth\":0,\"ticks\":\"\"},\"colorscale\":[[0.0,\"#0d0887\"],[0.1111111111111111,\"#46039f\"],[0.2222222222222222,\"#7201a8\"],[0.3333333333333333,\"#9c179e\"],[0.4444444444444444,\"#bd3786\"],[0.5555555555555556,\"#d8576b\"],[0.6666666666666666,\"#ed7953\"],[0.7777777777777778,\"#fb9f3a\"],[0.8888888888888888,\"#fdca26\"],[1.0,\"#f0f921\"]]}],\"choropleth\":[{\"type\":\"choropleth\",\"colorbar\":{\"outlinewidth\":0,\"ticks\":\"\"}}],\"histogram2d\":[{\"type\":\"histogram2d\",\"colorbar\":{\"outlinewidth\":0,\"ticks\":\"\"},\"colorscale\":[[0.0,\"#0d0887\"],[0.1111111111111111,\"#46039f\"],[0.2222222222222222,\"#7201a8\"],[0.3333333333333333,\"#9c179e\"],[0.4444444444444444,\"#bd3786\"],[0.5555555555555556,\"#d8576b\"],[0.6666666666666666,\"#ed7953\"],[0.7777777777777778,\"#fb9f3a\"],[0.8888888888888888,\"#fdca26\"],[1.0,\"#f0f921\"]]}],\"heatmap\":[{\"type\":\"heatmap\",\"colorbar\":{\"outlinewidth\":0,\"ticks\":\"\"},\"colorscale\":[[0.0,\"#0d0887\"],[0.1111111111111111,\"#46039f\"],[0.2222222222222222,\"#7201a8\"],[0.3333333333333333,\"#9c179e\"],[0.4444444444444444,\"#bd3786\"],[0.5555555555555556,\"#d8576b\"],[0.6666666666666666,\"#ed7953\"],[0.7777777777777778,\"#fb9f3a\"],[0.8888888888888888,\"#fdca26\"],[1.0,\"#f0f921\"]]}],\"heatmapgl\":[{\"type\":\"heatmapgl\",\"colorbar\":{\"outlinewidth\":0,\"ticks\":\"\"},\"colorscale\":[[0.0,\"#0d0887\"],[0.1111111111111111,\"#46039f\"],[0.2222222222222222,\"#7201a8\"],[0.3333333333333333,\"#9c179e\"],[0.4444444444444444,\"#bd3786\"],[0.5555555555555556,\"#d8576b\"],[0.6666666666666666,\"#ed7953\"],[0.7777777777777778,\"#fb9f3a\"],[0.8888888888888888,\"#fdca26\"],[1.0,\"#f0f921\"]]}],\"contourcarpet\":[{\"type\":\"contourcarpet\",\"colorbar\":{\"outlinewidth\":0,\"ticks\":\"\"}}],\"contour\":[{\"type\":\"contour\",\"colorbar\":{\"outlinewidth\":0,\"ticks\":\"\"},\"colorscale\":[[0.0,\"#0d0887\"],[0.1111111111111111,\"#46039f\"],[0.2222222222222222,\"#7201a8\"],[0.3333333333333333,\"#9c179e\"],[0.4444444444444444,\"#bd3786\"],[0.5555555555555556,\"#d8576b\"],[0.6666666666666666,\"#ed7953\"],[0.7777777777777778,\"#fb9f3a\"],[0.8888888888888888,\"#fdca26\"],[1.0,\"#f0f921\"]]}],\"surface\":[{\"type\":\"surface\",\"colorbar\":{\"outlinewidth\":0,\"ticks\":\"\"},\"colorscale\":[[0.0,\"#0d0887\"],[0.1111111111111111,\"#46039f\"],[0.2222222222222222,\"#7201a8\"],[0.3333333333333333,\"#9c179e\"],[0.4444444444444444,\"#bd3786\"],[0.5555555555555556,\"#d8576b\"],[0.6666666666666666,\"#ed7953\"],[0.7777777777777778,\"#fb9f3a\"],[0.8888888888888888,\"#fdca26\"],[1.0,\"#f0f921\"]]}],\"mesh3d\":[{\"type\":\"mesh3d\",\"colorbar\":{\"outlinewidth\":0,\"ticks\":\"\"}}],\"scatter\":[{\"fillpattern\":{\"fillmode\":\"overlay\",\"size\":10,\"solidity\":0.2},\"type\":\"scatter\"}],\"parcoords\":[{\"type\":\"parcoords\",\"line\":{\"colorbar\":{\"outlinewidth\":0,\"ticks\":\"\"}}}],\"scatterpolargl\":[{\"type\":\"scatterpolargl\",\"marker\":{\"colorbar\":{\"outlinewidth\":0,\"ticks\":\"\"}}}],\"bar\":[{\"error_x\":{\"color\":\"#2a3f5f\"},\"error_y\":{\"color\":\"#2a3f5f\"},\"marker\":{\"line\":{\"color\":\"#E5ECF6\",\"width\":0.5},\"pattern\":{\"fillmode\":\"overlay\",\"size\":10,\"solidity\":0.2}},\"type\":\"bar\"}],\"scattergeo\":[{\"type\":\"scattergeo\",\"marker\":{\"colorbar\":{\"outlinewidth\":0,\"ticks\":\"\"}}}],\"scatterpolar\":[{\"type\":\"scatterpolar\",\"marker\":{\"colorbar\":{\"outlinewidth\":0,\"ticks\":\"\"}}}],\"histogram\":[{\"marker\":{\"pattern\":{\"fillmode\":\"overlay\",\"size\":10,\"solidity\":0.2}},\"type\":\"histogram\"}],\"scattergl\":[{\"type\":\"scattergl\",\"marker\":{\"colorbar\":{\"outlinewidth\":0,\"ticks\":\"\"}}}],\"scatter3d\":[{\"type\":\"scatter3d\",\"line\":{\"colorbar\":{\"outlinewidth\":0,\"ticks\":\"\"}},\"marker\":{\"colorbar\":{\"outlinewidth\":0,\"ticks\":\"\"}}}],\"scattermapbox\":[{\"type\":\"scattermapbox\",\"marker\":{\"colorbar\":{\"outlinewidth\":0,\"ticks\":\"\"}}}],\"scatterternary\":[{\"type\":\"scatterternary\",\"marker\":{\"colorbar\":{\"outlinewidth\":0,\"ticks\":\"\"}}}],\"scattercarpet\":[{\"type\":\"scattercarpet\",\"marker\":{\"colorbar\":{\"outlinewidth\":0,\"ticks\":\"\"}}}],\"carpet\":[{\"aaxis\":{\"endlinecolor\":\"#2a3f5f\",\"gridcolor\":\"white\",\"linecolor\":\"white\",\"minorgridcolor\":\"white\",\"startlinecolor\":\"#2a3f5f\"},\"baxis\":{\"endlinecolor\":\"#2a3f5f\",\"gridcolor\":\"white\",\"linecolor\":\"white\",\"minorgridcolor\":\"white\",\"startlinecolor\":\"#2a3f5f\"},\"type\":\"carpet\"}],\"table\":[{\"cells\":{\"fill\":{\"color\":\"#EBF0F8\"},\"line\":{\"color\":\"white\"}},\"header\":{\"fill\":{\"color\":\"#C8D4E3\"},\"line\":{\"color\":\"white\"}},\"type\":\"table\"}],\"barpolar\":[{\"marker\":{\"line\":{\"color\":\"#E5ECF6\",\"width\":0.5},\"pattern\":{\"fillmode\":\"overlay\",\"size\":10,\"solidity\":0.2}},\"type\":\"barpolar\"}],\"pie\":[{\"automargin\":true,\"type\":\"pie\"}]},\"layout\":{\"autotypenumbers\":\"strict\",\"colorway\":[\"#636efa\",\"#EF553B\",\"#00cc96\",\"#ab63fa\",\"#FFA15A\",\"#19d3f3\",\"#FF6692\",\"#B6E880\",\"#FF97FF\",\"#FECB52\"],\"font\":{\"color\":\"#2a3f5f\"},\"hovermode\":\"closest\",\"hoverlabel\":{\"align\":\"left\"},\"paper_bgcolor\":\"white\",\"plot_bgcolor\":\"#E5ECF6\",\"polar\":{\"bgcolor\":\"#E5ECF6\",\"angularaxis\":{\"gridcolor\":\"white\",\"linecolor\":\"white\",\"ticks\":\"\"},\"radialaxis\":{\"gridcolor\":\"white\",\"linecolor\":\"white\",\"ticks\":\"\"}},\"ternary\":{\"bgcolor\":\"#E5ECF6\",\"aaxis\":{\"gridcolor\":\"white\",\"linecolor\":\"white\",\"ticks\":\"\"},\"baxis\":{\"gridcolor\":\"white\",\"linecolor\":\"white\",\"ticks\":\"\"},\"caxis\":{\"gridcolor\":\"white\",\"linecolor\":\"white\",\"ticks\":\"\"}},\"coloraxis\":{\"colorbar\":{\"outlinewidth\":0,\"ticks\":\"\"}},\"colorscale\":{\"sequential\":[[0.0,\"#0d0887\"],[0.1111111111111111,\"#46039f\"],[0.2222222222222222,\"#7201a8\"],[0.3333333333333333,\"#9c179e\"],[0.4444444444444444,\"#bd3786\"],[0.5555555555555556,\"#d8576b\"],[0.6666666666666666,\"#ed7953\"],[0.7777777777777778,\"#fb9f3a\"],[0.8888888888888888,\"#fdca26\"],[1.0,\"#f0f921\"]],\"sequentialminus\":[[0.0,\"#0d0887\"],[0.1111111111111111,\"#46039f\"],[0.2222222222222222,\"#7201a8\"],[0.3333333333333333,\"#9c179e\"],[0.4444444444444444,\"#bd3786\"],[0.5555555555555556,\"#d8576b\"],[0.6666666666666666,\"#ed7953\"],[0.7777777777777778,\"#fb9f3a\"],[0.8888888888888888,\"#fdca26\"],[1.0,\"#f0f921\"]],\"diverging\":[[0,\"#8e0152\"],[0.1,\"#c51b7d\"],[0.2,\"#de77ae\"],[0.3,\"#f1b6da\"],[0.4,\"#fde0ef\"],[0.5,\"#f7f7f7\"],[0.6,\"#e6f5d0\"],[0.7,\"#b8e186\"],[0.8,\"#7fbc41\"],[0.9,\"#4d9221\"],[1,\"#276419\"]]},\"xaxis\":{\"gridcolor\":\"white\",\"linecolor\":\"white\",\"ticks\":\"\",\"title\":{\"standoff\":15},\"zerolinecolor\":\"white\",\"automargin\":true,\"zerolinewidth\":2},\"yaxis\":{\"gridcolor\":\"white\",\"linecolor\":\"white\",\"ticks\":\"\",\"title\":{\"standoff\":15},\"zerolinecolor\":\"white\",\"automargin\":true,\"zerolinewidth\":2},\"scene\":{\"xaxis\":{\"backgroundcolor\":\"#E5ECF6\",\"gridcolor\":\"white\",\"linecolor\":\"white\",\"showbackground\":true,\"ticks\":\"\",\"zerolinecolor\":\"white\",\"gridwidth\":2},\"yaxis\":{\"backgroundcolor\":\"#E5ECF6\",\"gridcolor\":\"white\",\"linecolor\":\"white\",\"showbackground\":true,\"ticks\":\"\",\"zerolinecolor\":\"white\",\"gridwidth\":2},\"zaxis\":{\"backgroundcolor\":\"#E5ECF6\",\"gridcolor\":\"white\",\"linecolor\":\"white\",\"showbackground\":true,\"ticks\":\"\",\"zerolinecolor\":\"white\",\"gridwidth\":2}},\"shapedefaults\":{\"line\":{\"color\":\"#2a3f5f\"}},\"annotationdefaults\":{\"arrowcolor\":\"#2a3f5f\",\"arrowhead\":0,\"arrowwidth\":1},\"geo\":{\"bgcolor\":\"white\",\"landcolor\":\"#E5ECF6\",\"subunitcolor\":\"white\",\"showland\":true,\"showlakes\":true,\"lakecolor\":\"white\"},\"title\":{\"x\":0.05},\"mapbox\":{\"style\":\"light\"}}},\"xaxis\":{\"anchor\":\"y\",\"domain\":[0.0,1.0],\"title\":{\"text\":\"target\"}},\"yaxis\":{\"anchor\":\"x\",\"domain\":[0.0,1.0],\"title\":{\"text\":\"count\"}},\"coloraxis\":{\"colorbar\":{\"title\":{\"text\":\"target\"}},\"colorscale\":[[0.0,\"#0d0887\"],[0.1111111111111111,\"#46039f\"],[0.2222222222222222,\"#7201a8\"],[0.3333333333333333,\"#9c179e\"],[0.4444444444444444,\"#bd3786\"],[0.5555555555555556,\"#d8576b\"],[0.6666666666666666,\"#ed7953\"],[0.7777777777777778,\"#fb9f3a\"],[0.8888888888888888,\"#fdca26\"],[1.0,\"#f0f921\"]]},\"legend\":{\"tracegroupgap\":0},\"margin\":{\"t\":60},\"barmode\":\"relative\"},                        {\"responsive\": true}                    ).then(function(){\n",
              "                            \n",
              "var gd = document.getElementById('5ad428ea-9c9c-4aaf-8691-cdd5582432fd');\n",
              "var x = new MutationObserver(function (mutations, observer) {{\n",
              "        var display = window.getComputedStyle(gd).display;\n",
              "        if (!display || display === 'none') {{\n",
              "            console.log([gd, 'removed!']);\n",
              "            Plotly.purge(gd);\n",
              "            observer.disconnect();\n",
              "        }}\n",
              "}});\n",
              "\n",
              "// Listen for the removal of the full notebook cells\n",
              "var notebookContainer = gd.closest('#notebook-container');\n",
              "if (notebookContainer) {{\n",
              "    x.observe(notebookContainer, {childList: true});\n",
              "}}\n",
              "\n",
              "// Listen for the clearing of the current output cell\n",
              "var outputEl = gd.closest('.output');\n",
              "if (outputEl) {{\n",
              "    x.observe(outputEl, {childList: true});\n",
              "}}\n",
              "\n",
              "                        })                };                            </script>        </div>\n",
              "</body>\n",
              "</html>"
            ]
          },
          "metadata": {}
        }
      ],
      "source": [
        "fig2 = px.bar(targets, x='target', y='count', color='target')\n",
        "fig2.show()"
      ]
    },
    {
      "cell_type": "code",
      "execution_count": 34,
      "metadata": {
        "id": "Dd49kE-tTMkD"
      },
      "outputs": [],
      "source": [
        "X_train, X_test, y_train, y_test = train_test_split(df['clean_title'], df['target'], test_size=0.3, random_state=15)"
      ]
    },
    {
      "cell_type": "code",
      "execution_count": 35,
      "metadata": {
        "id": "EgHpaenPRwE9"
      },
      "outputs": [],
      "source": [
        "tf = TfidfVectorizer()\n",
        "x_train_vec = tf.fit_transform(X_train)\n",
        "x_test_vec = tf.transform(X_test)"
      ]
    },
    {
      "cell_type": "code",
      "execution_count": 36,
      "metadata": {
        "colab": {
          "base_uri": "https://localhost:8080/"
        },
        "id": "8LP6hYaUSrvV",
        "outputId": "a7f6f7f8-b6c3-4596-fb72-6b37a98132d7"
      },
      "outputs": [
        {
          "output_type": "stream",
          "name": "stdout",
          "text": [
            "(31428, 15409) (31428,)\n",
            "(13470, 15409) (13470,)\n"
          ]
        }
      ],
      "source": [
        "print(x_train_vec.shape, y_train.shape)\n",
        "print(x_test_vec.shape, y_test.shape)"
      ]
    },
    {
      "cell_type": "code",
      "execution_count": 37,
      "metadata": {
        "colab": {
          "base_uri": "https://localhost:8080/",
          "height": 75
        },
        "id": "t7rZVQknStfS",
        "outputId": "2a3eca92-3039-4e69-9c0f-837330f082e4"
      },
      "outputs": [
        {
          "output_type": "execute_result",
          "data": {
            "text/plain": [
              "LogisticRegression()"
            ],
            "text/html": [
              "<style>#sk-container-id-1 {color: black;background-color: white;}#sk-container-id-1 pre{padding: 0;}#sk-container-id-1 div.sk-toggleable {background-color: white;}#sk-container-id-1 label.sk-toggleable__label {cursor: pointer;display: block;width: 100%;margin-bottom: 0;padding: 0.3em;box-sizing: border-box;text-align: center;}#sk-container-id-1 label.sk-toggleable__label-arrow:before {content: \"▸\";float: left;margin-right: 0.25em;color: #696969;}#sk-container-id-1 label.sk-toggleable__label-arrow:hover:before {color: black;}#sk-container-id-1 div.sk-estimator:hover label.sk-toggleable__label-arrow:before {color: black;}#sk-container-id-1 div.sk-toggleable__content {max-height: 0;max-width: 0;overflow: hidden;text-align: left;background-color: #f0f8ff;}#sk-container-id-1 div.sk-toggleable__content pre {margin: 0.2em;color: black;border-radius: 0.25em;background-color: #f0f8ff;}#sk-container-id-1 input.sk-toggleable__control:checked~div.sk-toggleable__content {max-height: 200px;max-width: 100%;overflow: auto;}#sk-container-id-1 input.sk-toggleable__control:checked~label.sk-toggleable__label-arrow:before {content: \"▾\";}#sk-container-id-1 div.sk-estimator input.sk-toggleable__control:checked~label.sk-toggleable__label {background-color: #d4ebff;}#sk-container-id-1 div.sk-label input.sk-toggleable__control:checked~label.sk-toggleable__label {background-color: #d4ebff;}#sk-container-id-1 input.sk-hidden--visually {border: 0;clip: rect(1px 1px 1px 1px);clip: rect(1px, 1px, 1px, 1px);height: 1px;margin: -1px;overflow: hidden;padding: 0;position: absolute;width: 1px;}#sk-container-id-1 div.sk-estimator {font-family: monospace;background-color: #f0f8ff;border: 1px dotted black;border-radius: 0.25em;box-sizing: border-box;margin-bottom: 0.5em;}#sk-container-id-1 div.sk-estimator:hover {background-color: #d4ebff;}#sk-container-id-1 div.sk-parallel-item::after {content: \"\";width: 100%;border-bottom: 1px solid gray;flex-grow: 1;}#sk-container-id-1 div.sk-label:hover label.sk-toggleable__label {background-color: #d4ebff;}#sk-container-id-1 div.sk-serial::before {content: \"\";position: absolute;border-left: 1px solid gray;box-sizing: border-box;top: 0;bottom: 0;left: 50%;z-index: 0;}#sk-container-id-1 div.sk-serial {display: flex;flex-direction: column;align-items: center;background-color: white;padding-right: 0.2em;padding-left: 0.2em;position: relative;}#sk-container-id-1 div.sk-item {position: relative;z-index: 1;}#sk-container-id-1 div.sk-parallel {display: flex;align-items: stretch;justify-content: center;background-color: white;position: relative;}#sk-container-id-1 div.sk-item::before, #sk-container-id-1 div.sk-parallel-item::before {content: \"\";position: absolute;border-left: 1px solid gray;box-sizing: border-box;top: 0;bottom: 0;left: 50%;z-index: -1;}#sk-container-id-1 div.sk-parallel-item {display: flex;flex-direction: column;z-index: 1;position: relative;background-color: white;}#sk-container-id-1 div.sk-parallel-item:first-child::after {align-self: flex-end;width: 50%;}#sk-container-id-1 div.sk-parallel-item:last-child::after {align-self: flex-start;width: 50%;}#sk-container-id-1 div.sk-parallel-item:only-child::after {width: 0;}#sk-container-id-1 div.sk-dashed-wrapped {border: 1px dashed gray;margin: 0 0.4em 0.5em 0.4em;box-sizing: border-box;padding-bottom: 0.4em;background-color: white;}#sk-container-id-1 div.sk-label label {font-family: monospace;font-weight: bold;display: inline-block;line-height: 1.2em;}#sk-container-id-1 div.sk-label-container {text-align: center;}#sk-container-id-1 div.sk-container {/* jupyter's `normalize.less` sets `[hidden] { display: none; }` but bootstrap.min.css set `[hidden] { display: none !important; }` so we also need the `!important` here to be able to override the default hidden behavior on the sphinx rendered scikit-learn.org. See: https://github.com/scikit-learn/scikit-learn/issues/21755 */display: inline-block !important;position: relative;}#sk-container-id-1 div.sk-text-repr-fallback {display: none;}</style><div id=\"sk-container-id-1\" class=\"sk-top-container\"><div class=\"sk-text-repr-fallback\"><pre>LogisticRegression()</pre><b>In a Jupyter environment, please rerun this cell to show the HTML representation or trust the notebook. <br />On GitHub, the HTML representation is unable to render, please try loading this page with nbviewer.org.</b></div><div class=\"sk-container\" hidden><div class=\"sk-item\"><div class=\"sk-estimator sk-toggleable\"><input class=\"sk-toggleable__control sk-hidden--visually\" id=\"sk-estimator-id-1\" type=\"checkbox\" checked><label for=\"sk-estimator-id-1\" class=\"sk-toggleable__label sk-toggleable__label-arrow\">LogisticRegression</label><div class=\"sk-toggleable__content\"><pre>LogisticRegression()</pre></div></div></div></div></div>"
            ]
          },
          "metadata": {},
          "execution_count": 37
        }
      ],
      "source": [
        "model = LogisticRegression()\n",
        "model.fit(x_train_vec, y_train)"
      ]
    },
    {
      "cell_type": "code",
      "execution_count": 38,
      "metadata": {
        "id": "-JoefJiDT--Y"
      },
      "outputs": [],
      "source": [
        "pred = model.predict(x_test_vec)\n",
        "score = roc_auc_score(y_test, pred)"
      ]
    },
    {
      "cell_type": "code",
      "execution_count": 39,
      "metadata": {
        "colab": {
          "base_uri": "https://localhost:8080/"
        },
        "id": "NDCphkZ8VAMJ",
        "outputId": "0c29c3d5-d5bd-4a3f-bc37-4012b41beb29"
      },
      "outputs": [
        {
          "output_type": "execute_result",
          "data": {
            "text/plain": [
              "0.9437324812972746"
            ]
          },
          "metadata": {},
          "execution_count": 39
        }
      ],
      "source": [
        "score"
      ]
    },
    {
      "cell_type": "code",
      "execution_count": 40,
      "metadata": {
        "colab": {
          "base_uri": "https://localhost:8080/",
          "height": 449
        },
        "id": "QDfM4i_rXa8M",
        "outputId": "dabf5285-0e2f-4c61-8fe7-8476fcb7631d"
      },
      "outputs": [
        {
          "output_type": "display_data",
          "data": {
            "text/plain": [
              "<Figure size 640x480 with 2 Axes>"
            ],
            "image/png": "[encoded data removed]"
          },
          "metadata": {}
        }
      ],
      "source": [
        "from sklearn.metrics import ConfusionMatrixDisplay, confusion_matrix\n",
        "\n",
        "cm = confusion_matrix(y_test, pred, labels=model.classes_)\n",
        "disp = ConfusionMatrixDisplay(confusion_matrix=cm, display_labels=model.classes_)\n",
        "\n",
        "disp.plot()\n",
        "\n",
        "plt.show()"
      ]
    },
    {
      "cell_type": "code",
      "source": [
        "def process_text(text):\n",
        "    # Tokenize the text\n",
        "    tokens = nltk.word_tokenize(text)\n",
        "    \n",
        "    # Remove stop words and non-alphabetic tokens\n",
        "    filtered_tokens = [token.lower() for token in tokens if token.lower() not in stop_words and token.isalpha()]\n",
        "    \n",
        "    # Lemmatize the remaining tokens\n",
        "    lemmatized_tokens = [lemmatizer.lemmatize(token) for token in filtered_tokens]\n",
        "    \n",
        "    # Remove duplicate tokens\n",
        "    unique_tokens = list(set(lemmatized_tokens))\n",
        "    \n",
        "    # Join the unique tokens back into a string\n",
        "    processed_text = \" \".join(unique_tokens)\n",
        "    \n",
        "    return processed_text\n"
      ],
      "metadata": {
        "id": "4wxAB7n6zE10"
      },
      "execution_count": 41,
      "outputs": []
    },
    {
      "cell_type": "code",
      "source": [
        "batch_size = 1000\n",
        "\n",
        "# Get the number of rows in the dataframe\n",
        "num_rows = df.shape[0]\n",
        "\n",
        "# Loop through the data in batches\n",
        "for i in range(0, num_rows, batch_size):\n",
        "    # Get the current batch\n",
        "    batch = df.loc[i:i+batch_size-1, 'text']\n",
        "\n",
        "    # Process the current batch\n",
        "    processed_batch = batch.apply(process_text)\n",
        "\n",
        "    # Update the original dataframe with the processed data\n",
        "    df.loc[i:i+batch_size-1, 'text'] = processed_batch"
      ],
      "metadata": {
        "id": "ADmj4QOr9xme"
      },
      "execution_count": 42,
      "outputs": []
    },
    {
      "cell_type": "code",
      "source": [
        "df['text'].iloc[0]"
      ],
      "metadata": {
        "colab": {
          "base_uri": "https://localhost:8080/",
          "height": 122
        },
        "id": "pJwA2eNujmCj",
        "outputId": "402c186f-fe5f-41a7-d8f7-22c67d47880c"
      },
      "execution_count": 43,
      "outputs": [
        {
          "output_type": "execute_result",
          "data": {
            "text/plain": [
              "'accountability blamed balance raid wondered candidate due screened witnessed claiming chanting swarming standard looking protected business claim citizen chill warrant late record key early challenge invasion emerged resident outcome fundamental republican fresh america raided technocratic see found need updated described prosecution wake principal important partner depleted taking another since virtually money mix kid comprehensive video damaged confidential copy hate searched expansive doorstep recusal peterson handcuff trouble front ominous keeping domestic answer proved fact violating floor bringing go matter formally support teacher secret core ultimately eighteen warning leading lawyer review reason ruined led illegal remarkably supporter command protect bill activity launched television budget serious every subpoenaed shower professional superhuman recused police others abuse misconduct anxiety complaint paralyzed dressed concept issuing however purple often story forced growth emotional dying drama activist finally wall place accomplished distraught move restart harassed threw appeal contracting message traditional return think sell intimate aspect responsible insisted second pouring good still abused proceeding united stop heading modern event selective conviction case resource prevent casualty carried equipped crime ordinary standing make petition onto parallel order chisholm stern along madison anne invaluable two innocently suspect purpose quick proxy answered begin data cross filled consequence tell state investigating bring willing attorney extensive declaring relevant abandon tea wrong cause public communication launch attempt ten remain reporter regarding talk sit kevin endured legislator requiring cease organization via alter gun closest terrifying violent reflected democrat five four take shade swarmed property across campaign yet opening violate unreasonable door discussing harassment job even say expected running motion halted almost injunction architect familiar shop thing prosecutor earth reasonably surprise freedom left view heavy vote dozen reform associating number tv statute three round survived began insistent sympathetic suspicion perp immediately knock likely passed additional moved drug attempted legal justice nothing contact liberty kind contacted incalculable paused directly supervised impact race putting seized come promptly strict account mom marriage jury amendment eric election democratic meanwhile filed peaceful nearly repercussion broke reference father ran shame observer taylor followed fear seen lead clothes scott face drove total constituted descend fundraising known movie held awake enter conventional next meeting birth came secrecy defending received aimed basement chose dana investigator know way reelection newly disrespectful efficiency u mother back guilty shocked wife loving jolted safely steward smartphones negative constitutional damage hang remove blaze neighbor subpoena sitting raging former destroy amount power threatening merit drill holding inside bad rule close contained either misuse told quash brings family court must sheer eye lengthy giving prohibition trembling preliminary advocacy undo item took headed israel demanded loud frantic lawless procedure intrusion investigation operating potential milwaukee grand student word knowledge open legislation thought poster act may supervising investigated denied filing towered attrition looming kept broad layer invested coffee hard possession covering speak including championship result fishing aim devastating gave confined opponent assumed indicating spoke cornered university partisan much pain group meaningful assuage said near palestinian remarkable explained part club became explanation taunt alarmed child halt plainclothes transformed become woke street benefit uttered weapon embezzlement judge grabbed smartphone population donor innocent testify progressive expressly half cancelling anything awakened person company silence cloud repair duty around noted report disclosure life permit commotion typical belief personal routine overseeing cradle rarely private appeared pitting day house subject passage fund enough fourth rachel body death please mere dollar realized chapter issue intimidate deemed simply theory herded watching simple forward circuit able controversy independent battlefield morning new instrument lawfare brought protest computer mess cop idea presided treat least someone ad whether without sealed potentially persuaded proceeded reality hand dismayed speech suffer government committed whereby intrusive cheese minor contempt requirement democracy doe show disappearance point secured district implemented rushing treating fate merely capable file reputation monetary plaintiff right single medium barking saw free regime yes compounded bathroom leak applied allegedly array silent asked govern mount communism individual car according bursting embarrassed electronic lawsuit raiding fleeing investigate yelled recall called party material certiorari couch appropriation victimized sexual journalist uniformed unfailingly lock shaken window name enforcement trauma use perps expanded barged e dog nlarge fundamentally stuart information furious faced voice protester finger guarantee walker opened ultimate feel anyone refused solace taunted work reversed would barbara bed like witness explain authority worse ordeal exercising increasing stress belonging preventing scared process entire investigative yelling bus mind executed mercy living permanently american john dramatically dire toward kluka man poised used moment join grab winning active many mean look violation writ privilege believe supportive associate conservative ruin full target home upon chaos meant following blocked federal looked october unsettling week coordination identify year expression festooned tried formal economic form neighborhood overrun presence employee offer vendor track grant political incriminating indeed hoping losing share malevolent accountable failed effect opinion sanction fist ill handle bias combined punishment traumatic rather care union consolidated longer evidence knew everything obtained watched turn fortunately rudolph let hidden general related first endure armed targeted county favorable capitol search loesch altered room based flowing approving archer adept targeting call president embarrass agent seek making financial governor comment experience multiple bound advocated defender replied identity deeper average walking felt conduct real pounding create seizing describes interview tactic world seizure shattered pressure school seemed people intervene time criminal could exercise got month doctrine victim original final buy scope terrible shoot afraid safe consider sure heart exploded aggressive ever men battering vandalized gregory designation dealer probable within officer one danger relationship sergeant community moving dawn action verbal instead slanderous mob also strewn history existence terrified unlawful legitimate defendant never massive assure light spine fearful remember might climax level national surrounding judicial untethered rogue include whistleblower wanted politics randa alleging cindy proven expansion done lawmaker cup similar knocking sided send official supported spring cellphone limited immunity end law unless begged international heard polite western accomplish diplomatic outside replacing rushed hence ram secretive wrongdoing dead office engage always daughter keefe petitioned beginning inquiry faith prohibits repealed carrying friend expect expecting wisconsin blue absorbed million defense laid untouched nature videotaped coordinated notion incapable success alleged movement mainstream named journal tipped correspondence started run shining executive coincided declining system fight intimidated pajama hearing leaving charge approved shut finance get supreme select retaliation made ruling barred doubt lose victorious series curious pundit finished practice spectacle granted seventh truly thinking amok'"
            ],
            "application/vnd.google.colaboratory.intrinsic+json": {
              "type": "string"
            }
          },
          "metadata": {},
          "execution_count": 43
        }
      ]
    },
    {
      "cell_type": "code",
      "source": [
        "df['text'].iloc[0]"
      ],
      "metadata": {
        "colab": {
          "base_uri": "https://localhost:8080/",
          "height": 122
        },
        "id": "PGL5djig7eAK",
        "outputId": "244f03cb-d93e-4922-c9c6-f38a190667aa"
      },
      "execution_count": 44,
      "outputs": [
        {
          "output_type": "execute_result",
          "data": {
            "text/plain": [
              "'accountability blamed balance raid wondered candidate due screened witnessed claiming chanting swarming standard looking protected business claim citizen chill warrant late record key early challenge invasion emerged resident outcome fundamental republican fresh america raided technocratic see found need updated described prosecution wake principal important partner depleted taking another since virtually money mix kid comprehensive video damaged confidential copy hate searched expansive doorstep recusal peterson handcuff trouble front ominous keeping domestic answer proved fact violating floor bringing go matter formally support teacher secret core ultimately eighteen warning leading lawyer review reason ruined led illegal remarkably supporter command protect bill activity launched television budget serious every subpoenaed shower professional superhuman recused police others abuse misconduct anxiety complaint paralyzed dressed concept issuing however purple often story forced growth emotional dying drama activist finally wall place accomplished distraught move restart harassed threw appeal contracting message traditional return think sell intimate aspect responsible insisted second pouring good still abused proceeding united stop heading modern event selective conviction case resource prevent casualty carried equipped crime ordinary standing make petition onto parallel order chisholm stern along madison anne invaluable two innocently suspect purpose quick proxy answered begin data cross filled consequence tell state investigating bring willing attorney extensive declaring relevant abandon tea wrong cause public communication launch attempt ten remain reporter regarding talk sit kevin endured legislator requiring cease organization via alter gun closest terrifying violent reflected democrat five four take shade swarmed property across campaign yet opening violate unreasonable door discussing harassment job even say expected running motion halted almost injunction architect familiar shop thing prosecutor earth reasonably surprise freedom left view heavy vote dozen reform associating number tv statute three round survived began insistent sympathetic suspicion perp immediately knock likely passed additional moved drug attempted legal justice nothing contact liberty kind contacted incalculable paused directly supervised impact race putting seized come promptly strict account mom marriage jury amendment eric election democratic meanwhile filed peaceful nearly repercussion broke reference father ran shame observer taylor followed fear seen lead clothes scott face drove total constituted descend fundraising known movie held awake enter conventional next meeting birth came secrecy defending received aimed basement chose dana investigator know way reelection newly disrespectful efficiency u mother back guilty shocked wife loving jolted safely steward smartphones negative constitutional damage hang remove blaze neighbor subpoena sitting raging former destroy amount power threatening merit drill holding inside bad rule close contained either misuse told quash brings family court must sheer eye lengthy giving prohibition trembling preliminary advocacy undo item took headed israel demanded loud frantic lawless procedure intrusion investigation operating potential milwaukee grand student word knowledge open legislation thought poster act may supervising investigated denied filing towered attrition looming kept broad layer invested coffee hard possession covering speak including championship result fishing aim devastating gave confined opponent assumed indicating spoke cornered university partisan much pain group meaningful assuage said near palestinian remarkable explained part club became explanation taunt alarmed child halt plainclothes transformed become woke street benefit uttered weapon embezzlement judge grabbed smartphone population donor innocent testify progressive expressly half cancelling anything awakened person company silence cloud repair duty around noted report disclosure life permit commotion typical belief personal routine overseeing cradle rarely private appeared pitting day house subject passage fund enough fourth rachel body death please mere dollar realized chapter issue intimidate deemed simply theory herded watching simple forward circuit able controversy independent battlefield morning new instrument lawfare brought protest computer mess cop idea presided treat least someone ad whether without sealed potentially persuaded proceeded reality hand dismayed speech suffer government committed whereby intrusive cheese minor contempt requirement democracy doe show disappearance point secured district implemented rushing treating fate merely capable file reputation monetary plaintiff right single medium barking saw free regime yes compounded bathroom leak applied allegedly array silent asked govern mount communism individual car according bursting embarrassed electronic lawsuit raiding fleeing investigate yelled recall called party material certiorari couch appropriation victimized sexual journalist uniformed unfailingly lock shaken window name enforcement trauma use perps expanded barged e dog nlarge fundamentally stuart information furious faced voice protester finger guarantee walker opened ultimate feel anyone refused solace taunted work reversed would barbara bed like witness explain authority worse ordeal exercising increasing stress belonging preventing scared process entire investigative yelling bus mind executed mercy living permanently american john dramatically dire toward kluka man poised used moment join grab winning active many mean look violation writ privilege believe supportive associate conservative ruin full target home upon chaos meant following blocked federal looked october unsettling week coordination identify year expression festooned tried formal economic form neighborhood overrun presence employee offer vendor track grant political incriminating indeed hoping losing share malevolent accountable failed effect opinion sanction fist ill handle bias combined punishment traumatic rather care union consolidated longer evidence knew everything obtained watched turn fortunately rudolph let hidden general related first endure armed targeted county favorable capitol search loesch altered room based flowing approving archer adept targeting call president embarrass agent seek making financial governor comment experience multiple bound advocated defender replied identity deeper average walking felt conduct real pounding create seizing describes interview tactic world seizure shattered pressure school seemed people intervene time criminal could exercise got month doctrine victim original final buy scope terrible shoot afraid safe consider sure heart exploded aggressive ever men battering vandalized gregory designation dealer probable within officer one danger relationship sergeant community moving dawn action verbal instead slanderous mob also strewn history existence terrified unlawful legitimate defendant never massive assure light spine fearful remember might climax level national surrounding judicial untethered rogue include whistleblower wanted politics randa alleging cindy proven expansion done lawmaker cup similar knocking sided send official supported spring cellphone limited immunity end law unless begged international heard polite western accomplish diplomatic outside replacing rushed hence ram secretive wrongdoing dead office engage always daughter keefe petitioned beginning inquiry faith prohibits repealed carrying friend expect expecting wisconsin blue absorbed million defense laid untouched nature videotaped coordinated notion incapable success alleged movement mainstream named journal tipped correspondence started run shining executive coincided declining system fight intimidated pajama hearing leaving charge approved shut finance get supreme select retaliation made ruling barred doubt lose victorious series curious pundit finished practice spectacle granted seventh truly thinking amok'"
            ],
            "application/vnd.google.colaboratory.intrinsic+json": {
              "type": "string"
            }
          },
          "metadata": {},
          "execution_count": 44
        }
      ]
    },
    {
      "cell_type": "code",
      "source": [
        "X_train, X_test, y_train, y_test = train_test_split(df['text'], df['target'], test_size=0.3, random_state=15)"
      ],
      "metadata": {
        "id": "HixUjsy9-t-7"
      },
      "execution_count": 45,
      "outputs": []
    },
    {
      "cell_type": "code",
      "source": [
        "print(X_train.shape, y_train.shape)"
      ],
      "metadata": {
        "colab": {
          "base_uri": "https://localhost:8080/"
        },
        "id": "OHs9AUOy-_Od",
        "outputId": "b5c48698-2698-468d-9894-627a2d6d35dd"
      },
      "execution_count": 46,
      "outputs": [
        {
          "output_type": "stream",
          "name": "stdout",
          "text": [
            "(31428,) (31428,)\n"
          ]
        }
      ]
    },
    {
      "cell_type": "code",
      "source": [
        "print(X_test.shape, y_test.shape)"
      ],
      "metadata": {
        "colab": {
          "base_uri": "https://localhost:8080/"
        },
        "id": "Ta-J5vPZ_BTn",
        "outputId": "399ab8aa-d3ed-4de9-a131-3a6fc7cff666"
      },
      "execution_count": 47,
      "outputs": [
        {
          "output_type": "stream",
          "name": "stdout",
          "text": [
            "(13470,) (13470,)\n"
          ]
        }
      ]
    },
    {
      "cell_type": "code",
      "source": [
        "tf = TfidfVectorizer()\n",
        "X_train_vec = tf.fit_transform(X_train)\n",
        "X_test_vec = tf.transform(X_test)"
      ],
      "metadata": {
        "id": "4WDXMWEy_NF6"
      },
      "execution_count": 48,
      "outputs": []
    },
    {
      "cell_type": "code",
      "source": [
        "print(X_train_vec.shape, y_train.shape)"
      ],
      "metadata": {
        "colab": {
          "base_uri": "https://localhost:8080/"
        },
        "id": "F7UXgfTPAIV_",
        "outputId": "b6797e4f-9b78-4b7b-8784-6f329b08fb97"
      },
      "execution_count": 49,
      "outputs": [
        {
          "output_type": "stream",
          "name": "stdout",
          "text": [
            "(31428, 80376) (31428,)\n"
          ]
        }
      ]
    },
    {
      "cell_type": "code",
      "source": [
        "print(X_test_vec.shape, y_test.shape)"
      ],
      "metadata": {
        "colab": {
          "base_uri": "https://localhost:8080/"
        },
        "id": "RiYfwWi0A_l9",
        "outputId": "8fe6cc79-eddd-46a6-cde4-6404d015a90c"
      },
      "execution_count": 50,
      "outputs": [
        {
          "output_type": "stream",
          "name": "stdout",
          "text": [
            "(13470, 80376) (13470,)\n"
          ]
        }
      ]
    },
    {
      "cell_type": "code",
      "source": [
        "model = LogisticRegression()\n",
        "model.fit(X_train_vec, y_train)"
      ],
      "metadata": {
        "colab": {
          "base_uri": "https://localhost:8080/",
          "height": 75
        },
        "id": "durG3MWzAPNQ",
        "outputId": "cab9c3ac-20bd-4b2b-9f39-1b6e673afd9e"
      },
      "execution_count": 51,
      "outputs": [
        {
          "output_type": "execute_result",
          "data": {
            "text/plain": [
              "LogisticRegression()"
            ],
            "text/html": [
              "<style>#sk-container-id-2 {color: black;background-color: white;}#sk-container-id-2 pre{padding: 0;}#sk-container-id-2 div.sk-toggleable {background-color: white;}#sk-container-id-2 label.sk-toggleable__label {cursor: pointer;display: block;width: 100%;margin-bottom: 0;padding: 0.3em;box-sizing: border-box;text-align: center;}#sk-container-id-2 label.sk-toggleable__label-arrow:before {content: \"▸\";float: left;margin-right: 0.25em;color: #696969;}#sk-container-id-2 label.sk-toggleable__label-arrow:hover:before {color: black;}#sk-container-id-2 div.sk-estimator:hover label.sk-toggleable__label-arrow:before {color: black;}#sk-container-id-2 div.sk-toggleable__content {max-height: 0;max-width: 0;overflow: hidden;text-align: left;background-color: #f0f8ff;}#sk-container-id-2 div.sk-toggleable__content pre {margin: 0.2em;color: black;border-radius: 0.25em;background-color: #f0f8ff;}#sk-container-id-2 input.sk-toggleable__control:checked~div.sk-toggleable__content {max-height: 200px;max-width: 100%;overflow: auto;}#sk-container-id-2 input.sk-toggleable__control:checked~label.sk-toggleable__label-arrow:before {content: \"▾\";}#sk-container-id-2 div.sk-estimator input.sk-toggleable__control:checked~label.sk-toggleable__label {background-color: #d4ebff;}#sk-container-id-2 div.sk-label input.sk-toggleable__control:checked~label.sk-toggleable__label {background-color: #d4ebff;}#sk-container-id-2 input.sk-hidden--visually {border: 0;clip: rect(1px 1px 1px 1px);clip: rect(1px, 1px, 1px, 1px);height: 1px;margin: -1px;overflow: hidden;padding: 0;position: absolute;width: 1px;}#sk-container-id-2 div.sk-estimator {font-family: monospace;background-color: #f0f8ff;border: 1px dotted black;border-radius: 0.25em;box-sizing: border-box;margin-bottom: 0.5em;}#sk-container-id-2 div.sk-estimator:hover {background-color: #d4ebff;}#sk-container-id-2 div.sk-parallel-item::after {content: \"\";width: 100%;border-bottom: 1px solid gray;flex-grow: 1;}#sk-container-id-2 div.sk-label:hover label.sk-toggleable__label {background-color: #d4ebff;}#sk-container-id-2 div.sk-serial::before {content: \"\";position: absolute;border-left: 1px solid gray;box-sizing: border-box;top: 0;bottom: 0;left: 50%;z-index: 0;}#sk-container-id-2 div.sk-serial {display: flex;flex-direction: column;align-items: center;background-color: white;padding-right: 0.2em;padding-left: 0.2em;position: relative;}#sk-container-id-2 div.sk-item {position: relative;z-index: 1;}#sk-container-id-2 div.sk-parallel {display: flex;align-items: stretch;justify-content: center;background-color: white;position: relative;}#sk-container-id-2 div.sk-item::before, #sk-container-id-2 div.sk-parallel-item::before {content: \"\";position: absolute;border-left: 1px solid gray;box-sizing: border-box;top: 0;bottom: 0;left: 50%;z-index: -1;}#sk-container-id-2 div.sk-parallel-item {display: flex;flex-direction: column;z-index: 1;position: relative;background-color: white;}#sk-container-id-2 div.sk-parallel-item:first-child::after {align-self: flex-end;width: 50%;}#sk-container-id-2 div.sk-parallel-item:last-child::after {align-self: flex-start;width: 50%;}#sk-container-id-2 div.sk-parallel-item:only-child::after {width: 0;}#sk-container-id-2 div.sk-dashed-wrapped {border: 1px dashed gray;margin: 0 0.4em 0.5em 0.4em;box-sizing: border-box;padding-bottom: 0.4em;background-color: white;}#sk-container-id-2 div.sk-label label {font-family: monospace;font-weight: bold;display: inline-block;line-height: 1.2em;}#sk-container-id-2 div.sk-label-container {text-align: center;}#sk-container-id-2 div.sk-container {/* jupyter's `normalize.less` sets `[hidden] { display: none; }` but bootstrap.min.css set `[hidden] { display: none !important; }` so we also need the `!important` here to be able to override the default hidden behavior on the sphinx rendered scikit-learn.org. See: https://github.com/scikit-learn/scikit-learn/issues/21755 */display: inline-block !important;position: relative;}#sk-container-id-2 div.sk-text-repr-fallback {display: none;}</style><div id=\"sk-container-id-2\" class=\"sk-top-container\"><div class=\"sk-text-repr-fallback\"><pre>LogisticRegression()</pre><b>In a Jupyter environment, please rerun this cell to show the HTML representation or trust the notebook. <br />On GitHub, the HTML representation is unable to render, please try loading this page with nbviewer.org.</b></div><div class=\"sk-container\" hidden><div class=\"sk-item\"><div class=\"sk-estimator sk-toggleable\"><input class=\"sk-toggleable__control sk-hidden--visually\" id=\"sk-estimator-id-2\" type=\"checkbox\" checked><label for=\"sk-estimator-id-2\" class=\"sk-toggleable__label sk-toggleable__label-arrow\">LogisticRegression</label><div class=\"sk-toggleable__content\"><pre>LogisticRegression()</pre></div></div></div></div></div>"
            ]
          },
          "metadata": {},
          "execution_count": 51
        }
      ]
    },
    {
      "cell_type": "code",
      "source": [
        "pred = model.predict(X_test_vec)\n",
        "acc = roc_auc_score(y_test, pred)"
      ],
      "metadata": {
        "id": "ILSlCTJUAmDw"
      },
      "execution_count": 52,
      "outputs": []
    },
    {
      "cell_type": "code",
      "source": [
        "acc"
      ],
      "metadata": {
        "colab": {
          "base_uri": "https://localhost:8080/"
        },
        "id": "5hcw87hFA1va",
        "outputId": "2cab4efd-4a32-4955-9617-9591301db487"
      },
      "execution_count": 53,
      "outputs": [
        {
          "output_type": "execute_result",
          "data": {
            "text/plain": [
              "0.9899779350644689"
            ]
          },
          "metadata": {},
          "execution_count": 53
        }
      ]
    },
    {
      "cell_type": "code",
      "source": [
        "cm = confusion_matrix(y_test, pred, labels=model.classes_)\n",
        "disp = ConfusionMatrixDisplay(confusion_matrix=cm, display_labels=model.classes_)\n",
        "\n",
        "disp.plot()\n",
        "\n",
        "plt.show()"
      ],
      "metadata": {
        "colab": {
          "base_uri": "https://localhost:8080/",
          "height": 449
        },
        "id": "JWT-NLtHBSrp",
        "outputId": "27309544-7b53-41f8-e22e-41cc25d7b928"
      },
      "execution_count": 54,
      "outputs": [
        {
          "output_type": "display_data",
          "data": {
            "text/plain": [
              "<Figure size 640x480 with 2 Axes>"
            ],
            "image/png": "[encoded data removed]"
          },
          "metadata": {}
        }
      ]
    },
    {
      "cell_type": "code",
      "source": [
        "df.columns"
      ],
      "metadata": {
        "colab": {
          "base_uri": "https://localhost:8080/"
        },
        "id": "gebH3uFTBZCb",
        "outputId": "567bf62a-4296-40c2-e01e-20a3ef0c30ab"
      },
      "execution_count": 55,
      "outputs": [
        {
          "output_type": "execute_result",
          "data": {
            "text/plain": [
              "Index(['title', 'text', 'subject', 'date', 'target', 'clean_title', 'article'], dtype='object')"
            ]
          },
          "metadata": {},
          "execution_count": 55
        }
      ]
    },
    {
      "cell_type": "code",
      "source": [
        "batch_size = 1000\n",
        "\n",
        "# Get the number of rows in the dataframe\n",
        "num_rows = df.shape[0]\n",
        "\n",
        "# Loop through the data in batches\n",
        "for i in range(0, num_rows, batch_size):\n",
        "    # Get the current batch\n",
        "    batch = df.loc[i:i+batch_size-1, 'article']\n",
        "\n",
        "    # Process the current batch\n",
        "    processed_batch = batch.apply(process_text)\n",
        "\n",
        "    # Update the original dataframe with the processed data\n",
        "    df.loc[i:i+batch_size-1, 'clean_article'] = processed_batch"
      ],
      "metadata": {
        "id": "bNnpo5dTCEHL"
      },
      "execution_count": 56,
      "outputs": []
    },
    {
      "cell_type": "code",
      "source": [
        "df.columns"
      ],
      "metadata": {
        "colab": {
          "base_uri": "https://localhost:8080/"
        },
        "id": "v216XrWLCNZQ",
        "outputId": "098fe30c-064f-4b5c-c99f-1bcc7bcf496e"
      },
      "execution_count": 57,
      "outputs": [
        {
          "output_type": "execute_result",
          "data": {
            "text/plain": [
              "Index(['title', 'text', 'subject', 'date', 'target', 'clean_title', 'article',\n",
              "       'clean_article'],\n",
              "      dtype='object')"
            ]
          },
          "metadata": {},
          "execution_count": 57
        }
      ]
    },
    {
      "cell_type": "code",
      "source": [
        "df['clean_article'].head(10)"
      ],
      "metadata": {
        "colab": {
          "base_uri": "https://localhost:8080/"
        },
        "id": "mv5inGZgDCtH",
        "outputId": "6f8013a6-5e26-4b86-95b8-82ccdd82a54f"
      },
      "execution_count": 58,
      "outputs": [
        {
          "output_type": "execute_result",
          "data": {
            "text/plain": [
              "0    accountability blamed balance raid wondered ca...\n",
              "1    guterres decision hope noted predecessor despe...\n",
              "2    phone running oscar present philippine lily do...\n",
              "3    taxpayer board environmental claiming columnis...\n",
              "4    clenched fantastic fascist term fist handle th...\n",
              "5    anything xenophobe thing around brown love liv...\n",
              "6    blamed candidate among quite vacuum compared l...\n",
              "7    election taken also running century news press...\n",
              "8    attention phone hope senator cnn circumstance ...\n",
              "9    temporary familiar around foot interesting lif...\n",
              "Name: clean_article, dtype: object"
            ]
          },
          "metadata": {},
          "execution_count": 58
        }
      ]
    },
    {
      "cell_type": "code",
      "source": [
        "X_train, X_test, y_train, y_test = train_test_split(df['clean_article'], df['target'], random_state=15, test_size=0.33)"
      ],
      "metadata": {
        "id": "XoG-sypbDKV1"
      },
      "execution_count": 59,
      "outputs": []
    },
    {
      "cell_type": "code",
      "source": [
        "X_train_vec = tf.fit_transform(X_train)\n",
        "X_test_vec = tf.transform(X_test)"
      ],
      "metadata": {
        "id": "1jT85rrVDmpK"
      },
      "execution_count": 60,
      "outputs": []
    },
    {
      "cell_type": "code",
      "source": [
        "print(X_train_vec.shape, X_test_vec.shape)"
      ],
      "metadata": {
        "colab": {
          "base_uri": "https://localhost:8080/"
        },
        "id": "nlrGGaZoDy7n",
        "outputId": "f738cdfd-0c2b-4998-a9bd-fcd1bdd24803"
      },
      "execution_count": 61,
      "outputs": [
        {
          "output_type": "stream",
          "name": "stdout",
          "text": [
            "(30081, 79155) (14817, 79155)\n"
          ]
        }
      ]
    },
    {
      "cell_type": "code",
      "source": [
        "model = LogisticRegression()\n",
        "model.fit(X_train_vec, y_train)"
      ],
      "metadata": {
        "colab": {
          "base_uri": "https://localhost:8080/",
          "height": 75
        },
        "id": "yYOdtG3eD32q",
        "outputId": "b292ffa1-6647-4ebf-930b-c0ba174c935c"
      },
      "execution_count": 62,
      "outputs": [
        {
          "output_type": "execute_result",
          "data": {
            "text/plain": [
              "LogisticRegression()"
            ],
            "text/html": [
              "<style>#sk-container-id-3 {color: black;background-color: white;}#sk-container-id-3 pre{padding: 0;}#sk-container-id-3 div.sk-toggleable {background-color: white;}#sk-container-id-3 label.sk-toggleable__label {cursor: pointer;display: block;width: 100%;margin-bottom: 0;padding: 0.3em;box-sizing: border-box;text-align: center;}#sk-container-id-3 label.sk-toggleable__label-arrow:before {content: \"▸\";float: left;margin-right: 0.25em;color: #696969;}#sk-container-id-3 label.sk-toggleable__label-arrow:hover:before {color: black;}#sk-container-id-3 div.sk-estimator:hover label.sk-toggleable__label-arrow:before {color: black;}#sk-container-id-3 div.sk-toggleable__content {max-height: 0;max-width: 0;overflow: hidden;text-align: left;background-color: #f0f8ff;}#sk-container-id-3 div.sk-toggleable__content pre {margin: 0.2em;color: black;border-radius: 0.25em;background-color: #f0f8ff;}#sk-container-id-3 input.sk-toggleable__control:checked~div.sk-toggleable__content {max-height: 200px;max-width: 100%;overflow: auto;}#sk-container-id-3 input.sk-toggleable__control:checked~label.sk-toggleable__label-arrow:before {content: \"▾\";}#sk-container-id-3 div.sk-estimator input.sk-toggleable__control:checked~label.sk-toggleable__label {background-color: #d4ebff;}#sk-container-id-3 div.sk-label input.sk-toggleable__control:checked~label.sk-toggleable__label {background-color: #d4ebff;}#sk-container-id-3 input.sk-hidden--visually {border: 0;clip: rect(1px 1px 1px 1px);clip: rect(1px, 1px, 1px, 1px);height: 1px;margin: -1px;overflow: hidden;padding: 0;position: absolute;width: 1px;}#sk-container-id-3 div.sk-estimator {font-family: monospace;background-color: #f0f8ff;border: 1px dotted black;border-radius: 0.25em;box-sizing: border-box;margin-bottom: 0.5em;}#sk-container-id-3 div.sk-estimator:hover {background-color: #d4ebff;}#sk-container-id-3 div.sk-parallel-item::after {content: \"\";width: 100%;border-bottom: 1px solid gray;flex-grow: 1;}#sk-container-id-3 div.sk-label:hover label.sk-toggleable__label {background-color: #d4ebff;}#sk-container-id-3 div.sk-serial::before {content: \"\";position: absolute;border-left: 1px solid gray;box-sizing: border-box;top: 0;bottom: 0;left: 50%;z-index: 0;}#sk-container-id-3 div.sk-serial {display: flex;flex-direction: column;align-items: center;background-color: white;padding-right: 0.2em;padding-left: 0.2em;position: relative;}#sk-container-id-3 div.sk-item {position: relative;z-index: 1;}#sk-container-id-3 div.sk-parallel {display: flex;align-items: stretch;justify-content: center;background-color: white;position: relative;}#sk-container-id-3 div.sk-item::before, #sk-container-id-3 div.sk-parallel-item::before {content: \"\";position: absolute;border-left: 1px solid gray;box-sizing: border-box;top: 0;bottom: 0;left: 50%;z-index: -1;}#sk-container-id-3 div.sk-parallel-item {display: flex;flex-direction: column;z-index: 1;position: relative;background-color: white;}#sk-container-id-3 div.sk-parallel-item:first-child::after {align-self: flex-end;width: 50%;}#sk-container-id-3 div.sk-parallel-item:last-child::after {align-self: flex-start;width: 50%;}#sk-container-id-3 div.sk-parallel-item:only-child::after {width: 0;}#sk-container-id-3 div.sk-dashed-wrapped {border: 1px dashed gray;margin: 0 0.4em 0.5em 0.4em;box-sizing: border-box;padding-bottom: 0.4em;background-color: white;}#sk-container-id-3 div.sk-label label {font-family: monospace;font-weight: bold;display: inline-block;line-height: 1.2em;}#sk-container-id-3 div.sk-label-container {text-align: center;}#sk-container-id-3 div.sk-container {/* jupyter's `normalize.less` sets `[hidden] { display: none; }` but bootstrap.min.css set `[hidden] { display: none !important; }` so we also need the `!important` here to be able to override the default hidden behavior on the sphinx rendered scikit-learn.org. See: https://github.com/scikit-learn/scikit-learn/issues/21755 */display: inline-block !important;position: relative;}#sk-container-id-3 div.sk-text-repr-fallback {display: none;}</style><div id=\"sk-container-id-3\" class=\"sk-top-container\"><div class=\"sk-text-repr-fallback\"><pre>LogisticRegression()</pre><b>In a Jupyter environment, please rerun this cell to show the HTML representation or trust the notebook. <br />On GitHub, the HTML representation is unable to render, please try loading this page with nbviewer.org.</b></div><div class=\"sk-container\" hidden><div class=\"sk-item\"><div class=\"sk-estimator sk-toggleable\"><input class=\"sk-toggleable__control sk-hidden--visually\" id=\"sk-estimator-id-3\" type=\"checkbox\" checked><label for=\"sk-estimator-id-3\" class=\"sk-toggleable__label sk-toggleable__label-arrow\">LogisticRegression</label><div class=\"sk-toggleable__content\"><pre>LogisticRegression()</pre></div></div></div></div></div>"
            ]
          },
          "metadata": {},
          "execution_count": 62
        }
      ]
    },
    {
      "cell_type": "code",
      "source": [
        "pred = model.predict(X_test_vec)\n",
        "score = roc_auc_score(y_test, pred)"
      ],
      "metadata": {
        "id": "D-jFOiGgE80p"
      },
      "execution_count": 63,
      "outputs": []
    },
    {
      "cell_type": "code",
      "source": [
        "score"
      ],
      "metadata": {
        "colab": {
          "base_uri": "https://localhost:8080/"
        },
        "id": "zGhodsUWFNMC",
        "outputId": "0eaa71d8-69ff-416f-b5eb-2b52b84a2941"
      },
      "execution_count": 64,
      "outputs": [
        {
          "output_type": "execute_result",
          "data": {
            "text/plain": [
              "0.9902934294652498"
            ]
          },
          "metadata": {},
          "execution_count": 64
        }
      ]
    },
    {
      "cell_type": "code",
      "source": [
        "cm = confusion_matrix(y_test, pred, labels=model.classes_)\n",
        "disp = ConfusionMatrixDisplay(confusion_matrix=cm, display_labels=model.classes_)\n",
        "\n",
        "disp.plot()\n",
        "\n",
        "plt.show()"
      ],
      "metadata": {
        "colab": {
          "base_uri": "https://localhost:8080/",
          "height": 449
        },
        "id": "_4mWwv5pFOVc",
        "outputId": "03bb9814-eb9a-46c0-ea8f-54cb6e79c61f"
      },
      "execution_count": 65,
      "outputs": [
        {
          "output_type": "display_data",
          "data": {
            "text/plain": [
              "<Figure size 640x480 with 2 Axes>"
            ],
            "image/png": "[encoded data removed]"
          },
          "metadata": {}
        }
      ]
    },
    {
      "cell_type": "code",
      "source": [],
      "metadata": {
        "id": "qph7uI7YF8Th"
      },
      "execution_count": 65,
      "outputs": []
    }
  ],
  "metadata": {
    "colab": {
      "provenance": []
    },
    "kernelspec": {
      "display_name": "Python 3",
      "name": "python3"
    },
    "language_info": {
      "name": "python"
    }
  },
  "nbformat": 4,
  "nbformat_minor": 0
}